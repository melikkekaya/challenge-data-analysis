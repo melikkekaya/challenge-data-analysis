{
 "cells": [
  {
   "cell_type": "code",
   "execution_count": null,
   "metadata": {},
   "outputs": [],
   "source": [
    "import pandas as pd\n",
    "import re\n",
    "import numpy as np\n",
    "df_main = pd.read_csv(\"properties_data.csv\")\n",
    "df = df_main[[\"id\",\"location\",\"Zip\",\"Type\",\"Subtype\",\n",
    "    \"Price\",\"Transaction Type\",\"Bedrooms\",\"Living area\",\"Kitchen type\",\n",
    "    \"Furnished\",\"How many fireplaces?\",\"Terrace\",\"Terrace surface\",\n",
    "    \"Garden\",\"Garden surface\",\"Surface of the plot\",\"Number of frontages\",\n",
    "    \"Swimming pool\",\"Building condition\",\"Primary energy consumption\",\"CO₂ emission\"]]\n",
    "df.info()\n",
    "df = df.set_index(\"id\")\n",
    "df = df.drop(df[df[\"Type\"]==\"house group\"].index)\n",
    "df = df.drop(df[df[\"Type\"]==\"apartment group\"].index)\n",
    "def clean_and_convert(column):\n",
    "    column = column.apply(lambda x: re.sub('\\D+', '', str(x)))\n",
    "    # column = column.replace('', np.nan).fillna(0).astype(int)\n",
    "    return column\n",
    "\n",
    "df['Living area'] = clean_and_convert(df['Living area'])\n",
    "df['Terrace surface'] = clean_and_convert(df['Terrace surface'])\n",
    "df['Garden surface'] = clean_and_convert(df['Garden surface'])\n",
    "df['Surface of the plot'] = clean_and_convert(df['Surface of the plot'])\n",
    "df['Primary energy consumption'] = clean_and_convert(df['Primary energy consumption'])\n",
    "df['CO₂ emission'] = clean_and_convert(df['CO₂ emission'])\n",
    "\n",
    "\n",
    "df\n",
    "df.info()"
   ]
  },
  {
   "cell_type": "code",
   "execution_count": null,
   "metadata": {},
   "outputs": [],
   "source": [
    "# Mapping dictionary for replacing values in the \"kitchen\" column\n",
    "kitchen_mapping = {\n",
    "    np.nan: -1,\n",
    "    'Not installed': 0,\n",
    "    'Installed': 1,\n",
    "    'Semi equipped': 2,\n",
    "    'Hyper equipped': 3,\n",
    "    'USA uninstalled' :0,\n",
    "    'USA installed': 1,\n",
    "    'USA semi equipped': 2,\n",
    "    'USA hyper equipped' :3\n",
    "}"
   ]
  },
  {
   "cell_type": "code",
   "execution_count": null,
   "metadata": {},
   "outputs": [],
   "source": [
    "# Replace values in the \"Kitchen type\" column with corresponding numbers and create a new column called \"Kitchen values\"\n",
    "df['Kitchen values'] = df['Kitchen type'].map(kitchen_mapping).fillna(df['Kitchen type']).astype(int)"
   ]
  },
  {
   "cell_type": "code",
   "execution_count": null,
   "metadata": {},
   "outputs": [],
   "source": [
    "# Verify the updated \"Kitchen\" columns\n",
    "print(df[['Kitchen type', 'Kitchen values']])"
   ]
  }
 ],
 "metadata": {
  "language_info": {
   "name": "python"
  },
  "orig_nbformat": 4
 },
 "nbformat": 4,
 "nbformat_minor": 2
}
