{
 "cells": [
  {
   "cell_type": "code",
   "execution_count": null,
   "metadata": {},
   "outputs": [],
   "source": [
    "import pandas as pd\n",
    "import urllib.parse\n",
    "import re\n",
    "import numpy as np\n",
    "import matplotlib.pyplot as plt\n",
    "import seaborn as sns\n",
    "import scipy"
   ]
  },
  {
   "cell_type": "code",
   "execution_count": null,
   "metadata": {},
   "outputs": [],
   "source": [
    "df = pd.read_csv('clean_data.csv')\n",
    "df = df.drop_duplicates(subset='id')\n",
    "df = df.drop(df[df[\"Type\"].isin([\"house group\", \"apartment group\"])].index)"
   ]
  },
  {
   "cell_type": "code",
   "execution_count": null,
   "metadata": {},
   "outputs": [],
   "source": [
    "duplicate_columns = df.columns[df.columns.duplicated()]\n",
    "df = df.loc[:, ~df.columns.duplicated()]\n",
    "\n",
    "filtered_columns = [\"id\",\"location\",\"Zip\",\"Type\",\"Subtype\",\n",
    "    \"Price\",\"Transaction Type\",\"Bedrooms\",\"Living area\",\"Kitchen type\",\n",
    "    \"Furnished\",\"How many fireplaces?\",\"Terrace\",\"Terrace surface\",\n",
    "    \"Garden\",\"Garden surface\",\"Surface of the plot\",\"Number of frontages\",\n",
    "    \"Swimming pool\",\"Building condition\",\"Primary energy consumption\"]\n",
    "df = df[filtered_columns]"
   ]
  },
  {
   "cell_type": "code",
   "execution_count": null,
   "metadata": {},
   "outputs": [],
   "source": [
    "df = df.rename(columns={\n",
    "    'location' :'Locality',\n",
    "    'Transaction Type' : 'Type of sale',\n",
    "    'Type' :'Type of property',\n",
    "    'Subtype' : 'Subtype of property',\n",
    "    'Number of frontages': 'Number of facades',\n",
    "    'Bedrooms':'Number of rooms',\n",
    "    'Surface of the plot' :'Surface of the land',\n",
    "    'Kitchen type' : 'Fully equipped kitchen',\n",
    "    'How many fireplaces?' : 'Open fire'\n",
    "})"
   ]
  },
  {
   "cell_type": "code",
   "execution_count": null,
   "metadata": {},
   "outputs": [],
   "source": [
    "#put the columns in a specific order\n",
    "df = df.reindex(columns=['id', 'Locality',\"Zip\", 'Type of property', 'Subtype of property',\n",
    "                         'Type of sale', 'Price', 'Number of facades', 'Number of rooms', \n",
    "                         'Living area', 'Fully equipped kitchen', 'Furnished','Primary energy consumption',\n",
    "                         'Surface of the land', 'Terrace', 'Terrace surface',\n",
    "                         'Garden','Garden surface', 'Open fire', \n",
    "                         'Swimming pool'])"
   ]
  },
  {
   "cell_type": "code",
   "execution_count": null,
   "metadata": {},
   "outputs": [],
   "source": [
    "def clean_and_convert(column):\n",
    "    column = column.apply(lambda x: re.sub('\\D+', '', str(x)))\n",
    "    column = column.replace('', np.nan).fillna(0).astype(int)\n",
    "    return column"
   ]
  },
  {
   "cell_type": "code",
   "execution_count": null,
   "metadata": {},
   "outputs": [],
   "source": [
    "df['Locality'] = df['Locality'].apply(urllib.parse.unquote)\n",
    "\n",
    "df['Living area'] = clean_and_convert(df['Living area'])\n",
    "df['Terrace'] = clean_and_convert(df['Terrace'])\n",
    "df['Garden'] = clean_and_convert(df['Garden'])\n",
    "df['Surface of the land'] = clean_and_convert(df['Surface of the land'])"
   ]
  },
  {
   "cell_type": "code",
   "execution_count": null,
   "metadata": {},
   "outputs": [],
   "source": [
    "df_houses = df[df['Type of property'] == 'house']\n",
    "df_apartments = df[df['Type of property'] == 'apartment']"
   ]
  },
  {
   "cell_type": "code",
   "execution_count": null,
   "metadata": {},
   "outputs": [],
   "source": [
    "numerics = ['int16', 'int32', 'int64', 'float16', 'float32', 'float64', 'bool']\n",
    "\n",
    "apartdf = df_apartments.select_dtypes(include=numerics)\n",
    "\n",
    "apartdf.corr(method = 'spearman')"
   ]
  },
  {
   "cell_type": "code",
   "execution_count": null,
   "metadata": {},
   "outputs": [],
   "source": [
    "housedf = df_houses.select_dtypes(include=numerics)\n",
    "housedf.corr(method = 'spearman')"
   ]
  },
  {
   "cell_type": "code",
   "execution_count": null,
   "metadata": {},
   "outputs": [],
   "source": [
    "# What is the correlation between the variables and the price?\n"
   ]
  },
  {
   "cell_type": "code",
   "execution_count": null,
   "metadata": {},
   "outputs": [],
   "source": [
    "# How are variables correlated to each other? (Why?)\n"
   ]
  },
  {
   "cell_type": "code",
   "execution_count": null,
   "metadata": {},
   "outputs": [],
   "source": [
    "# Which variables have the greatest influence on the price?\n"
   ]
  },
  {
   "cell_type": "code",
   "execution_count": null,
   "metadata": {},
   "outputs": [],
   "source": [
    "# Which variables have the least influence on the price?\n"
   ]
  },
  {
   "cell_type": "code",
   "execution_count": null,
   "metadata": {},
   "outputs": [],
   "source": [
    "# How many qualitative and quantitative variables are there? How would you transform these values into numerical values?\n"
   ]
  },
  {
   "cell_type": "code",
   "execution_count": null,
   "metadata": {},
   "outputs": [],
   "source": [
    "# Percentage of missing values per column?\n"
   ]
  }
 ],
 "metadata": {
  "kernelspec": {
   "display_name": "cleaningenv",
   "language": "python",
   "name": "python3"
  },
  "language_info": {
   "codemirror_mode": {
    "name": "ipython",
    "version": 3
   },
   "file_extension": ".py",
   "mimetype": "text/x-python",
   "name": "python",
   "nbconvert_exporter": "python",
   "pygments_lexer": "ipython3",
   "version": "3.11.3"
  },
  "orig_nbformat": 4
 },
 "nbformat": 4,
 "nbformat_minor": 2
}
