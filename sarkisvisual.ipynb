{
 "cells": [
  {
   "cell_type": "code",
   "execution_count": 101,
   "metadata": {},
   "outputs": [],
   "source": [
    "import pandas as pd\n",
    "import urllib.parse\n",
    "import re\n",
    "import numpy as np\n",
    "import matplotlib.pyplot as plt\n",
    "import seaborn as sns\n",
    "import scipy"
   ]
  },
  {
   "cell_type": "code",
   "execution_count": 105,
   "metadata": {},
   "outputs": [],
   "source": [
    "df = pd.read_csv('clean_data.csv')\n",
    "df = df.drop_duplicates(subset='id')\n",
    "df = df.drop(df[df[\"Type of property\"].isin([\"house group\", \"apartment group\"])].index)"
   ]
  },
  {
   "cell_type": "code",
   "execution_count": 106,
   "metadata": {},
   "outputs": [
    {
     "ename": "KeyError",
     "evalue": "\"['location', 'Type', 'Subtype', 'Transaction Type', 'Bedrooms', 'Kitchen type', 'How many fireplaces?', 'Surface of the plot', 'Number of frontages'] not in index\"",
     "output_type": "error",
     "traceback": [
      "\u001b[0;31m---------------------------------------------------------------------------\u001b[0m",
      "\u001b[0;31mKeyError\u001b[0m                                  Traceback (most recent call last)",
      "Cell \u001b[0;32mIn[106], line 9\u001b[0m\n\u001b[1;32m      2\u001b[0m df \u001b[39m=\u001b[39m df\u001b[39m.\u001b[39mloc[:, \u001b[39m~\u001b[39mdf\u001b[39m.\u001b[39mcolumns\u001b[39m.\u001b[39mduplicated()]\n\u001b[1;32m      4\u001b[0m filtered_columns \u001b[39m=\u001b[39m [\u001b[39m\"\u001b[39m\u001b[39mid\u001b[39m\u001b[39m\"\u001b[39m,\u001b[39m\"\u001b[39m\u001b[39mlocation\u001b[39m\u001b[39m\"\u001b[39m,\u001b[39m\"\u001b[39m\u001b[39mZip\u001b[39m\u001b[39m\"\u001b[39m,\u001b[39m\"\u001b[39m\u001b[39mType\u001b[39m\u001b[39m\"\u001b[39m,\u001b[39m\"\u001b[39m\u001b[39mSubtype\u001b[39m\u001b[39m\"\u001b[39m,\n\u001b[1;32m      5\u001b[0m     \u001b[39m\"\u001b[39m\u001b[39mPrice\u001b[39m\u001b[39m\"\u001b[39m,\u001b[39m\"\u001b[39m\u001b[39mTransaction Type\u001b[39m\u001b[39m\"\u001b[39m,\u001b[39m\"\u001b[39m\u001b[39mBedrooms\u001b[39m\u001b[39m\"\u001b[39m,\u001b[39m\"\u001b[39m\u001b[39mLiving area\u001b[39m\u001b[39m\"\u001b[39m,\u001b[39m\"\u001b[39m\u001b[39mKitchen type\u001b[39m\u001b[39m\"\u001b[39m,\n\u001b[1;32m      6\u001b[0m     \u001b[39m\"\u001b[39m\u001b[39mFurnished\u001b[39m\u001b[39m\"\u001b[39m,\u001b[39m\"\u001b[39m\u001b[39mHow many fireplaces?\u001b[39m\u001b[39m\"\u001b[39m,\u001b[39m\"\u001b[39m\u001b[39mTerrace\u001b[39m\u001b[39m\"\u001b[39m,\u001b[39m\"\u001b[39m\u001b[39mTerrace surface\u001b[39m\u001b[39m\"\u001b[39m,\n\u001b[1;32m      7\u001b[0m     \u001b[39m\"\u001b[39m\u001b[39mGarden\u001b[39m\u001b[39m\"\u001b[39m,\u001b[39m\"\u001b[39m\u001b[39mGarden surface\u001b[39m\u001b[39m\"\u001b[39m,\u001b[39m\"\u001b[39m\u001b[39mSurface of the plot\u001b[39m\u001b[39m\"\u001b[39m,\u001b[39m\"\u001b[39m\u001b[39mNumber of frontages\u001b[39m\u001b[39m\"\u001b[39m,\n\u001b[1;32m      8\u001b[0m     \u001b[39m\"\u001b[39m\u001b[39mSwimming pool\u001b[39m\u001b[39m\"\u001b[39m,\u001b[39m\"\u001b[39m\u001b[39mBuilding condition\u001b[39m\u001b[39m\"\u001b[39m,\u001b[39m\"\u001b[39m\u001b[39mPrimary energy consumption\u001b[39m\u001b[39m\"\u001b[39m]\n\u001b[0;32m----> 9\u001b[0m df \u001b[39m=\u001b[39m df[filtered_columns]\n",
      "File \u001b[0;32m~/challenge-data-analysis/cleanenv/lib/python3.11/site-packages/pandas/core/frame.py:3767\u001b[0m, in \u001b[0;36mDataFrame.__getitem__\u001b[0;34m(self, key)\u001b[0m\n\u001b[1;32m   3765\u001b[0m     \u001b[39mif\u001b[39;00m is_iterator(key):\n\u001b[1;32m   3766\u001b[0m         key \u001b[39m=\u001b[39m \u001b[39mlist\u001b[39m(key)\n\u001b[0;32m-> 3767\u001b[0m     indexer \u001b[39m=\u001b[39m \u001b[39mself\u001b[39;49m\u001b[39m.\u001b[39;49mcolumns\u001b[39m.\u001b[39;49m_get_indexer_strict(key, \u001b[39m\"\u001b[39;49m\u001b[39mcolumns\u001b[39;49m\u001b[39m\"\u001b[39;49m)[\u001b[39m1\u001b[39m]\n\u001b[1;32m   3769\u001b[0m \u001b[39m# take() does not accept boolean indexers\u001b[39;00m\n\u001b[1;32m   3770\u001b[0m \u001b[39mif\u001b[39;00m \u001b[39mgetattr\u001b[39m(indexer, \u001b[39m\"\u001b[39m\u001b[39mdtype\u001b[39m\u001b[39m\"\u001b[39m, \u001b[39mNone\u001b[39;00m) \u001b[39m==\u001b[39m \u001b[39mbool\u001b[39m:\n",
      "File \u001b[0;32m~/challenge-data-analysis/cleanenv/lib/python3.11/site-packages/pandas/core/indexes/base.py:5876\u001b[0m, in \u001b[0;36mIndex._get_indexer_strict\u001b[0;34m(self, key, axis_name)\u001b[0m\n\u001b[1;32m   5873\u001b[0m \u001b[39melse\u001b[39;00m:\n\u001b[1;32m   5874\u001b[0m     keyarr, indexer, new_indexer \u001b[39m=\u001b[39m \u001b[39mself\u001b[39m\u001b[39m.\u001b[39m_reindex_non_unique(keyarr)\n\u001b[0;32m-> 5876\u001b[0m \u001b[39mself\u001b[39;49m\u001b[39m.\u001b[39;49m_raise_if_missing(keyarr, indexer, axis_name)\n\u001b[1;32m   5878\u001b[0m keyarr \u001b[39m=\u001b[39m \u001b[39mself\u001b[39m\u001b[39m.\u001b[39mtake(indexer)\n\u001b[1;32m   5879\u001b[0m \u001b[39mif\u001b[39;00m \u001b[39misinstance\u001b[39m(key, Index):\n\u001b[1;32m   5880\u001b[0m     \u001b[39m# GH 42790 - Preserve name from an Index\u001b[39;00m\n",
      "File \u001b[0;32m~/challenge-data-analysis/cleanenv/lib/python3.11/site-packages/pandas/core/indexes/base.py:5938\u001b[0m, in \u001b[0;36mIndex._raise_if_missing\u001b[0;34m(self, key, indexer, axis_name)\u001b[0m\n\u001b[1;32m   5935\u001b[0m     \u001b[39mraise\u001b[39;00m \u001b[39mKeyError\u001b[39;00m(\u001b[39mf\u001b[39m\u001b[39m\"\u001b[39m\u001b[39mNone of [\u001b[39m\u001b[39m{\u001b[39;00mkey\u001b[39m}\u001b[39;00m\u001b[39m] are in the [\u001b[39m\u001b[39m{\u001b[39;00maxis_name\u001b[39m}\u001b[39;00m\u001b[39m]\u001b[39m\u001b[39m\"\u001b[39m)\n\u001b[1;32m   5937\u001b[0m not_found \u001b[39m=\u001b[39m \u001b[39mlist\u001b[39m(ensure_index(key)[missing_mask\u001b[39m.\u001b[39mnonzero()[\u001b[39m0\u001b[39m]]\u001b[39m.\u001b[39munique())\n\u001b[0;32m-> 5938\u001b[0m \u001b[39mraise\u001b[39;00m \u001b[39mKeyError\u001b[39;00m(\u001b[39mf\u001b[39m\u001b[39m\"\u001b[39m\u001b[39m{\u001b[39;00mnot_found\u001b[39m}\u001b[39;00m\u001b[39m not in index\u001b[39m\u001b[39m\"\u001b[39m)\n",
      "\u001b[0;31mKeyError\u001b[0m: \"['location', 'Type', 'Subtype', 'Transaction Type', 'Bedrooms', 'Kitchen type', 'How many fireplaces?', 'Surface of the plot', 'Number of frontages'] not in index\""
     ]
    }
   ],
   "source": [
    "duplicate_columns = df.columns[df.columns.duplicated()]\n",
    "df = df.loc[:, ~df.columns.duplicated()]\n",
    "\n",
    "filtered_columns = [\"id\",\"location\",\"Zip\",\"Type\",\"Subtype\",\n",
    "    \"Price\",\"Transaction Type\",\"Bedrooms\",\"Living area\",\"Kitchen type\",\n",
    "    \"Furnished\",\"How many fireplaces?\",\"Terrace\",\"Terrace surface\",\n",
    "    \"Garden\",\"Garden surface\",\"Surface of the plot\",\"Number of frontages\",\n",
    "    \"Swimming pool\",\"Building condition\",\"Primary energy consumption\"]\n",
    "df = df[filtered_columns]"
   ]
  },
  {
   "cell_type": "code",
   "execution_count": null,
   "metadata": {},
   "outputs": [],
   "source": [
    "df = df.rename(columns={\n",
    "    'location' :'Locality',\n",
    "    'Transaction Type' : 'Type of sale',\n",
    "    'Type' :'Type of property',\n",
    "    'Subtype' : 'Subtype of property',\n",
    "    'Number of frontages': 'Number of facades',\n",
    "    'Bedrooms':'Number of rooms',\n",
    "    'Surface of the plot' :'Surface of the land',\n",
    "    'Kitchen type' : 'Fully equipped kitchen',\n",
    "    'How many fireplaces?' : 'Open fire'\n",
    "})"
   ]
  },
  {
   "cell_type": "code",
   "execution_count": null,
   "metadata": {},
   "outputs": [],
   "source": [
    "#put the columns in a specific order\n",
    "df = df.reindex(columns=['id', 'Locality',\"Zip\", 'Type of property', 'Subtype of property',\n",
    "                         'Type of sale', 'Price', 'Number of facades', 'Number of rooms', \n",
    "                         'Living area', 'Fully equipped kitchen', 'Furnished','Primary energy consumption',\n",
    "                         'Surface of the land', 'Terrace', 'Terrace surface',\n",
    "                         'Garden','Garden surface', 'Open fire', \n",
    "                         'Swimming pool'])"
   ]
  },
  {
   "cell_type": "code",
   "execution_count": null,
   "metadata": {},
   "outputs": [],
   "source": [
    "def clean_and_convert(column):\n",
    "    column = column.apply(lambda x: re.sub('\\D+', '', str(x)))\n",
    "    column = column.replace('', np.nan).fillna(0).astype(int)\n",
    "    return column"
   ]
  },
  {
   "cell_type": "code",
   "execution_count": null,
   "metadata": {},
   "outputs": [],
   "source": [
    "df['Locality'] = df['Locality'].apply(urllib.parse.unquote)\n",
    "\n",
    "df['Living area'] = clean_and_convert(df['Living area'])\n",
    "df['Terrace'] = clean_and_convert(df['Terrace'])\n",
    "df['Garden'] = clean_and_convert(df['Garden'])\n",
    "df['Surface of the land'] = clean_and_convert(df['Surface of the land'])"
   ]
  },
  {
   "cell_type": "code",
   "execution_count": null,
   "metadata": {},
   "outputs": [],
   "source": [
    "df_houses = df[df['Type of property'] == 'house']\n",
    "df_apartments = df[df['Type of property'] == 'apartment']"
   ]
  },
  {
   "cell_type": "code",
   "execution_count": null,
   "metadata": {},
   "outputs": [],
   "source": [
    "numerics = ['int16', 'int32', 'int64', 'float16', 'float32', 'float64', 'bool']\n",
    "\n",
    "apartdf = df_apartments.select_dtypes(include=numerics)\n",
    "noIdApartDf = apartdf.loc[:, ~apartdf.columns.isin(['id'])]\n",
    "noIdApartDf.corr(method = 'spearman')"
   ]
  },
  {
   "cell_type": "code",
   "execution_count": null,
   "metadata": {},
   "outputs": [],
   "source": [
    "housedf = df_houses.select_dtypes(include=numerics)\n",
    "noIdHouseDf = housedf.loc[:, ~housedf.columns.isin(['id'])]\n",
    "noIdHouseDf.corr(method = 'spearman')"
   ]
  },
  {
   "cell_type": "code",
   "execution_count": null,
   "metadata": {},
   "outputs": [],
   "source": [
    "df.corr(method='spearman')"
   ]
  },
  {
   "cell_type": "code",
   "execution_count": null,
   "metadata": {},
   "outputs": [],
   "source": [
    "# How are variables correlated to each other? (Why?)\n"
   ]
  },
  {
   "cell_type": "code",
   "execution_count": null,
   "metadata": {},
   "outputs": [],
   "source": [
    "# Which variables have the greatest influence on the price?\n"
   ]
  },
  {
   "cell_type": "code",
   "execution_count": null,
   "metadata": {},
   "outputs": [],
   "source": [
    "# Which variables have the least influence on the price?\n"
   ]
  },
  {
   "cell_type": "code",
   "execution_count": null,
   "metadata": {},
   "outputs": [],
   "source": [
    "# How many qualitative and quantitative variables are there? How would you transform these values into numerical values?\n"
   ]
  },
  {
   "cell_type": "code",
   "execution_count": null,
   "metadata": {},
   "outputs": [],
   "source": [
    "# Percentage of missing values per column?\n"
   ]
  }
 ],
 "metadata": {
  "kernelspec": {
   "display_name": "cleaningenv",
   "language": "python",
   "name": "python3"
  },
  "language_info": {
   "codemirror_mode": {
    "name": "ipython",
    "version": 3
   },
   "file_extension": ".py",
   "mimetype": "text/x-python",
   "name": "python",
   "nbconvert_exporter": "python",
   "pygments_lexer": "ipython3",
   "version": "3.11.3"
  },
  "orig_nbformat": 4
 },
 "nbformat": 4,
 "nbformat_minor": 2
}
