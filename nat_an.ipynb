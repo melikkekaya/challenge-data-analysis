{
 "cells": [
  {
   "cell_type": "code",
   "execution_count": null,
   "metadata": {},
   "outputs": [],
   "source": [
    "#Creating data for analysis\n",
    "\"\"\"Removing outliers and filling missing values in based on Multivariate Approach:\n",
    "pip install scipy,  Scikit-learn, sklearn, run it after outliers are removed\"\"\"\n",
    "\n",
    "import pandas as pd\n",
    "import urllib.parse\n",
    "import re\n",
    "import numpy as np\n",
    "import matplotlib.pyplot as plt\n",
    "import matplotlib.colors\n",
    "\n",
    "import seaborn as sns\n",
    "\n",
    "from typing import List\n",
    "\n",
    "import sklearn\n",
    "from sklearn.experimental import enable_iterative_imputer\n",
    "from sklearn.impute import IterativeImputer\n",
    "\n",
    "#df for houses and apartments: \n",
    "df = pd.read_csv(\"clean_data.csv\")\n",
    "\n",
    "df[\"Primary energy consumption\"] = np.where((df[\"Primary energy consumption\"] > 5000) | (df[\"Primary energy consumption\"] < 20), 0, df[\"Primary energy consumption\"])\n",
    "\n",
    "df['Primary energy consumption'] = df['Primary energy consumption'].replace({-1: np.nan,\n",
    "0 : np.nan, 1:np.nan\n",
    "})\n",
    "\n",
    "df['Garden surface'] = df['Garden surface'].replace({-1: np.nan,\n",
    " 1:np.nan\n",
    "})\n",
    "\n",
    "df['Terrace surface'] = df['Terrace surface'].replace({-1: np.nan,\n",
    " 1:np.nan\n",
    "})\n",
    "\n",
    "df['Building Cond. values'] = df['Building Cond. values'].replace({-1: np.nan,\n",
    " 1:np.nan\n",
    "})\n",
    "\n",
    "\n",
    "\n",
    "df_for_houses = df[df['Type of property'] == 'house']\n",
    "df_for_apartments = df[df['Type of property'] == 'apartment']\n",
    "\n",
    "columns_houses = ['Price','Price of square meter', 'Living area','Number of rooms','Garden surface','Terrace surface','Open fire','Surface of the land','Number of facades','Swimming pool','Building Cond. values','Kitchen values','Primary energy consumption', 'Energy efficiency']\n",
    "columns_apartments = ['Price','Price of square meter', 'Living area','Number of rooms','Furnished', 'Garden surface', 'Terrace surface', 'Open fire','Building Cond. values','Kitchen values','Primary energy consumption', 'Energy efficiency']\n",
    "\n",
    "df_houses = df_for_houses[columns_houses]\n",
    "df_apartments = df_for_apartments[columns_apartments]\n",
    "df_all = df[columns_houses]\n",
    "\n",
    "\n",
    "\n",
    "# Remove outliers\n",
    "def remove_outliers(df: pd.DataFrame, columns: List[str], n_std: int) -> pd.DataFrame:\n",
    "    for col in columns:\n",
    "        mean = df[col].mean()\n",
    "        sd = df[col].std()\n",
    "        \n",
    "        df = df[(df[col] <= mean+(n_std*sd))]\n",
    "        \n",
    "    return df\n",
    "\n",
    "clean_houses = remove_outliers(df_houses, ['Price', 'Living area'], 3)\n",
    "clean_apartments = remove_outliers(df_apartments, ['Price', 'Living area'], 3)\n",
    "clean_all = remove_outliers(df, ['Price', 'Living area'], 3)\n",
    "clean_numeric_all = remove_outliers(df_all, ['Price', 'Living area'], 3)\n",
    "\n",
    "columns_h = columns_houses\n",
    "columns_a = columns_apartments\n",
    "\n",
    "#impute_it = IterativeImputer()\n",
    "#np_array_houses = impute_it.fit_transform(clean_houses).astype(int)\n",
    "#np_array_apartments = impute_it.fit_transform(clean_apartments).astype(int)\n",
    "#np_array_all = impute_it.fit_transform(clean_all)\n",
    "\n",
    "from sklearn.impute import KNNImputer\n",
    "impute_knn = KNNImputer(n_neighbors=5)\n",
    "k_apartments = impute_knn.fit_transform(clean_apartments)\n",
    "k_houses = impute_knn.fit_transform(clean_houses)\n",
    "\n",
    "complete_houses = pd.DataFrame(k_houses, columns = columns_h)\n",
    "complete_apartments = pd.DataFrame(k_apartments, columns = columns_a)\n",
    "\n",
    "#complete_houses = pd.DataFrame(np_array_houses,columns = columns_h)\n",
    "#complete_apartments = pd.DataFrame(np_array_apartments, columns = columns_a)\n",
    "\n",
    "#complete_houses.to_csv('complete_houses.csv')\n",
    "#complete_apartments.to_csv('complete_apartments.csv')"
   ]
  },
  {
   "cell_type": "code",
   "execution_count": null,
   "metadata": {},
   "outputs": [],
   "source": [
    "complete_houses"
   ]
  },
  {
   "cell_type": "code",
   "execution_count": null,
   "metadata": {},
   "outputs": [],
   "source": [
    "clean_apartments['Primary energy consumption'].max()"
   ]
  },
  {
   "cell_type": "code",
   "execution_count": null,
   "metadata": {},
   "outputs": [],
   "source": [
    "complete_apartments['Primary energy consumption']"
   ]
  },
  {
   "cell_type": "code",
   "execution_count": null,
   "metadata": {},
   "outputs": [],
   "source": [
    "complete_houses['Garden surface'].min()"
   ]
  },
  {
   "cell_type": "code",
   "execution_count": null,
   "metadata": {},
   "outputs": [],
   "source": [
    "#corr_complete_houses = complete_houses.corr(method = 'spearman').sort_values(['Price'], ascending=False)\n",
    "#corr_complete_apartments = complete_apartments.corr(method = 'spearman').sort_values(['Price'], ascending=False)"
   ]
  },
  {
   "cell_type": "code",
   "execution_count": null,
   "metadata": {},
   "outputs": [],
   "source": [
    "corr_complete_houses = complete_houses.corr(method = 'spearman')\n",
    "corr_complete_apartments = complete_apartments.corr(method = 'spearman')"
   ]
  },
  {
   "cell_type": "code",
   "execution_count": null,
   "metadata": {},
   "outputs": [],
   "source": [
    "\n",
    "plt.figure(figsize = (16,5))  \n",
    "colors = sns.color_palette('coolwarm', 11)\n",
    "levels = [-1, -0.8, -0.6, -0.4, -0.2, 0.0, 0.2, 0.4, 0.6, 0.8, 1.0]\n",
    "cmap, norm = matplotlib.colors.from_levels_and_colors(levels, colors, extend=\"max\")\n",
    "sns.heatmap(corr_complete_houses, cmap = cmap, annot=True, linewidths=.5, norm=norm)\n",
    "plt.title('Correlation heatmap for houses')"
   ]
  },
  {
   "cell_type": "code",
   "execution_count": null,
   "metadata": {},
   "outputs": [],
   "source": [
    "plt.figure(figsize = (16,5))  \n",
    "sns.heatmap(corr_complete_apartments, cmap = cmap, annot=True, linewidths=.5, norm=norm)\n",
    "plt.title('Correlation heatmap for apartments')"
   ]
  },
  {
   "cell_type": "code",
   "execution_count": null,
   "metadata": {},
   "outputs": [],
   "source": [
    "price_per_province1 = clean_all.groupby(['Province'], as_index=True)['Price'].mean().astype(int).sort_values(ascending = False)\n",
    "price_per_province2 = clean_all.groupby(['Province'], as_index=True)['Price'].median().astype(int).sort_values(ascending = False)\n",
    "ppm = clean_all.groupby(['Province'], as_index=True)['Price of square meter'].mean().astype(int).sort_values(ascending = False)"
   ]
  },
  {
   "cell_type": "code",
   "execution_count": null,
   "metadata": {},
   "outputs": [],
   "source": [
    "y= [0, 2000, 3000, 4000, 5000, 6000, 7000, 10000, 100000, 200000, 300000, 400000, 500000]\n",
    "ax1 = price_per_province1.plot(x='Province ', y='Price', kind='bar', rot=90, colormap='jet', title = 'Average and median prices by province').legend(['Average price','Median price'])\n",
    "ax2 = price_per_province2.plot(x='Province ', y='Price in €', kind='bar',rot=90,   title = 'Average and median prices by province').legend([ 'Average price','Median price'])\n",
    "plt.ylabel('Price in €')\n",
    "plt.xlabel('Province')\n",
    "plt.show()"
   ]
  },
  {
   "cell_type": "code",
   "execution_count": null,
   "metadata": {},
   "outputs": [],
   "source": [
    "ax3= ppm.plot(x='Province ', y='Price in €', kind='bar',colormap ='jet', rot=90, title = 'Average price per sqm by province').legend()\n",
    "plt.ylabel('Price in €')\n",
    "plt.xlabel('Province')\n",
    "plt.show()"
   ]
  },
  {
   "cell_type": "code",
   "execution_count": null,
   "metadata": {},
   "outputs": [],
   "source": [
    "clean_houses = remove_outliers(df_houses, ['Surface of the land'], 1)\n",
    "clean_houses['Surface of the land'].mean()"
   ]
  },
  {
   "cell_type": "code",
   "execution_count": null,
   "metadata": {},
   "outputs": [],
   "source": [
    "clean_houses.hist(column='Surface of the land', bins=100)\n",
    "clean_houses['Surface of the land'].mean()\n",
    "plt.title('Number of houses by surface of the land')\n",
    "plt.ylabel('Number of houses')\n",
    "plt.xlabel('Surface in m2')\n",
    "plt.show()"
   ]
  },
  {
   "cell_type": "code",
   "execution_count": null,
   "metadata": {},
   "outputs": [],
   "source": [
    "clean_apartments = remove_outliers(df_houses, ['Living area'], 1)\n",
    "clean_houses['Living area'].mean()"
   ]
  },
  {
   "cell_type": "code",
   "execution_count": null,
   "metadata": {},
   "outputs": [],
   "source": [
    "clean_apartments.hist(column='Living area', bins=100)\n",
    "\n",
    "plt.title('Number of apartments by living area')\n",
    "plt.ylabel('Number of apartments')\n",
    "plt.xlabel('Living area in m2')\n",
    "plt.show()"
   ]
  },
  {
   "cell_type": "code",
   "execution_count": null,
   "metadata": {},
   "outputs": [],
   "source": [
    "#Plotting outliers\n",
    "plt.figure(figsize=(10,2)) \n",
    "plt.subplot(1,2,1) \n",
    "sns.histplot(df_houses['Price'], kde=False)\n",
    "plt.axvline(x=df_houses['Price'].mean()+ 3*df_houses['Price'].std(), color ='red')\n",
    "plt.title('Outliers for houses')\n",
    "plt.legend(['3 std'])\n",
    "plt.subplot(1,2,2)\n",
    "sns.histplot(df_apartments['Price'], kde=False) \n",
    "plt.axvline(x=df_apartments['Price'].mean()+ 3*df_apartments['Price'].std(), color ='red')\n",
    "plt.title('Outliers for apartments')\n",
    "plt.legend(['3 std'])\n",
    "plt.show()"
   ]
  },
  {
   "cell_type": "code",
   "execution_count": null,
   "metadata": {},
   "outputs": [],
   "source": [
    "clean_per_m = clean_all[clean_all['Energy efficiency'] != -1]\n",
    "clean_per_m2 = clean_per_m[clean_per_m['Energy efficiency'] != 0]\n",
    "\n",
    "energy_per = clean_per_m2.groupby('Energy efficiency', as_index=True)['Price of square meter'].mean().astype(int)\n"
   ]
  },
  {
   "cell_type": "code",
   "execution_count": null,
   "metadata": {},
   "outputs": [],
   "source": [
    "energy_consumption = complete_houses[complete_houses['Primary energy consumption'] != -1]\n",
    "energy_consumption['Primary energy consumption'].max()"
   ]
  },
  {
   "cell_type": "code",
   "execution_count": null,
   "metadata": {},
   "outputs": [],
   "source": [
    "complete_apartments['Living area'].mean()"
   ]
  },
  {
   "cell_type": "code",
   "execution_count": null,
   "metadata": {},
   "outputs": [],
   "source": [
    "\n",
    "complete_apartments['Energy efficiency'].hist(bins=20)"
   ]
  },
  {
   "cell_type": "code",
   "execution_count": null,
   "metadata": {},
   "outputs": [],
   "source": [
    "energy_per.plot(kind='line', title = 'Energy efficiency and price per sq meter for houses')\n",
    "plt.legend(['Price', 'Energy effiency class'])\n",
    "plt.ylabel('Price in € per m2')\n",
    "plt.xlabel('Energy effeciency class from 7 (<100 kWh/m²), to 1 (>600kWh/m²)')\n",
    "plt.show()"
   ]
  }
 ],
 "metadata": {
  "kernelspec": {
   "display_name": "Python 3.11.0 ('challenge': venv)",
   "language": "python",
   "name": "python3"
  },
  "language_info": {
   "codemirror_mode": {
    "name": "ipython",
    "version": 3
   },
   "file_extension": ".py",
   "mimetype": "text/x-python",
   "name": "python",
   "nbconvert_exporter": "python",
   "pygments_lexer": "ipython3",
   "version": "3.11.0"
  },
  "orig_nbformat": 4,
  "vscode": {
   "interpreter": {
    "hash": "8f108999cb62c909280f14e2948290594600588fff4cc2f017f1ee7e9ea735e5"
   }
  }
 },
 "nbformat": 4,
 "nbformat_minor": 2
}
