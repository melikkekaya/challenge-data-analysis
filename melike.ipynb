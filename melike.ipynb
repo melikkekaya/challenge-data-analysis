{
 "cells": [
  {
   "cell_type": "code",
   "execution_count": 354,
   "metadata": {},
   "outputs": [],
   "source": [
    "import pandas as pd\n",
    "import re\n",
    "import numpy as np\n",
    "import matplotlib"
   ]
  },
  {
   "cell_type": "code",
   "execution_count": 355,
   "metadata": {},
   "outputs": [
    {
     "name": "stderr",
     "output_type": "stream",
     "text": [
      "/var/folders/lh/rbpzcs3522qg45v9lc_xvgyc0000gn/T/ipykernel_80076/136570877.py:1: DtypeWarning: Columns (41,42,43,44,90,91,92,93,113,115) have mixed types. Specify dtype option on import or set low_memory=False.\n",
      "  df_main = pd.read_csv(\"properties_data.csv\")\n"
     ]
    }
   ],
   "source": [
    "df_main = pd.read_csv(\"properties_data.csv\")"
   ]
  },
  {
   "cell_type": "code",
   "execution_count": 356,
   "metadata": {},
   "outputs": [],
   "source": [
    "df = df_main[[\"id\",\"location\",\"Zip\",\"Type\",\"Subtype\",\n",
    "    \"Price\",\"Transaction Type\",\"Bedrooms\",\"Living area\",\"Kitchen type\",\n",
    "    \"Furnished\",\"How many fireplaces?\",\"Terrace\",\"Terrace surface\",\n",
    "    \"Garden\",\"Garden surface\",\"Surface of the plot\",\"Number of frontages\",\n",
    "    \"Swimming pool\",\"Building condition\",\"Primary energy consumption\",\"CO₂ emission\"]]"
   ]
  },
  {
   "cell_type": "code",
   "execution_count": 357,
   "metadata": {},
   "outputs": [],
   "source": [
    "df = df.set_index(\"id\")"
   ]
  },
  {
   "cell_type": "code",
   "execution_count": 358,
   "metadata": {},
   "outputs": [],
   "source": [
    "df = df.drop(df[df[\"Type\"]==\"house group\"].index)\n",
    "df = df.drop(df[df[\"Type\"]==\"apartment group\"].index)"
   ]
  },
  {
   "cell_type": "code",
   "execution_count": 359,
   "metadata": {},
   "outputs": [],
   "source": [
    "def clean_and_convert(column):\n",
    "    column = column.apply(lambda x: re.sub('\\D+', '', str(x)))\n",
    "    column = column.replace('', np.nan)\n",
    "    # column = column.replace('', np.nan).fillna(0).astype(int)\n",
    "    return column\n",
    "\n",
    "df['Living area'] = clean_and_convert(df['Living area'])\n",
    "df['Terrace surface'] = clean_and_convert(df['Terrace surface'])\n",
    "df['Garden surface'] = clean_and_convert(df['Garden surface'])\n",
    "df['Surface of the plot'] = clean_and_convert(df['Surface of the plot'])\n",
    "df['Primary energy consumption'] = clean_and_convert(df['Primary energy consumption'])\n",
    "df['CO₂ emission'] = clean_and_convert(df['CO₂ emission'])"
   ]
  },
  {
   "cell_type": "code",
   "execution_count": 360,
   "metadata": {},
   "outputs": [],
   "source": [
    "df[\"Garden\"] = np.where((df[\"Garden\"] == \"Yes\") & (df[\"Garden surface\"] == \"\"), 1, df[\"Garden\"])\n",
    "df[\"Garden\"] = np.where((df[\"Garden\"] != \"Yes\") & (df[\"Garden surface\"] != \"\"), 1, df[\"Garden\"])\n",
    "df[\"Garden\"] = df[\"Garden\"].replace(\"\",np.nan).fillna(0)"
   ]
  },
  {
   "cell_type": "code",
   "execution_count": 361,
   "metadata": {},
   "outputs": [],
   "source": [
    "df[\"Terrace\"] = np.where((df[\"Terrace\"] == \"Yes\") & (df[\"Terrace surface\"] == \"\"), 1, df[\"Terrace\"])\n",
    "df[\"Terrace\"] = np.where((df[\"Terrace\"] != \"Yes\") & (df[\"Terrace surface\"] != \"\"), 1, df[\"Terrace\"])\n",
    "df[\"Terrace\"] = df[\"Terrace\"].replace(\"\",np.nan).fillna(0)"
   ]
  },
  {
   "cell_type": "code",
   "execution_count": 374,
   "metadata": {},
   "outputs": [],
   "source": [
    "# df[\"Garden surface\"] = np.where((df[\"Garden\"] == 0), 0, df[\"Garden surface\"])\n",
    "# df[\"Terrace surface\"] = np.where((df[\"Terrace\"] == 0), 0, df[\"Terrace surface\"])"
   ]
  },
  {
   "cell_type": "code",
   "execution_count": 364,
   "metadata": {},
   "outputs": [],
   "source": [
    "def nan_replacement(column):\n",
    "    column = column.replace(\"Yes\",1)\n",
    "    column = column.replace(\"No\",0)\n",
    "    column = column.replace('', np.nan).fillna(0)\n",
    "    return column\n",
    "\n",
    "df['Furnished'] = nan_replacement(df['Furnished'])\n",
    "df['Swimming pool'] = nan_replacement(df['Swimming pool'])\n",
    "df['How many fireplaces?'] = nan_replacement(df['How many fireplaces?'])"
   ]
  },
  {
   "cell_type": "code",
   "execution_count": 365,
   "metadata": {},
   "outputs": [],
   "source": [
    "df[\"Price\"] = df[\"Price\"].astype(int)"
   ]
  },
  {
   "cell_type": "code",
   "execution_count": 368,
   "metadata": {},
   "outputs": [],
   "source": [
    "type_change = {\"Price\":\"int\",\n",
    "                \"Bedrooms\":\"float\",\n",
    "                \"Living area\":\"float\",\n",
    "                \"Terrace surface\":\"float\",\n",
    "                \"Garden surface\":\"float\",\"Surface of the plot\":\"float\",\n",
    "                \"Number of frontages\":\"float\",\"Primary energy consumption\":\"float\",\n",
    "                \"CO₂ emission\":\"float\"}\n",
    "\n",
    "df = df.astype(type_change)"
   ]
  },
  {
   "cell_type": "code",
   "execution_count": 372,
   "metadata": {},
   "outputs": [
    {
     "data": {
      "text/html": [
       "<div>\n",
       "<style scoped>\n",
       "    .dataframe tbody tr th:only-of-type {\n",
       "        vertical-align: middle;\n",
       "    }\n",
       "\n",
       "    .dataframe tbody tr th {\n",
       "        vertical-align: top;\n",
       "    }\n",
       "\n",
       "    .dataframe thead th {\n",
       "        text-align: right;\n",
       "    }\n",
       "</style>\n",
       "<table border=\"1\" class=\"dataframe\">\n",
       "  <thead>\n",
       "    <tr style=\"text-align: right;\">\n",
       "      <th></th>\n",
       "      <th></th>\n",
       "      <th>Type</th>\n",
       "      <th>Subtype</th>\n",
       "    </tr>\n",
       "    <tr>\n",
       "      <th>Type</th>\n",
       "      <th>Subtype</th>\n",
       "      <th></th>\n",
       "      <th></th>\n",
       "    </tr>\n",
       "  </thead>\n",
       "  <tbody>\n",
       "    <tr>\n",
       "      <th rowspan=\"9\" valign=\"top\">apartment</th>\n",
       "      <th>apartment</th>\n",
       "      <td>6654</td>\n",
       "      <td>6654</td>\n",
       "    </tr>\n",
       "    <tr>\n",
       "      <th>duplex</th>\n",
       "      <td>588</td>\n",
       "      <td>588</td>\n",
       "    </tr>\n",
       "    <tr>\n",
       "      <th>flat studio</th>\n",
       "      <td>351</td>\n",
       "      <td>351</td>\n",
       "    </tr>\n",
       "    <tr>\n",
       "      <th>ground floor</th>\n",
       "      <td>455</td>\n",
       "      <td>455</td>\n",
       "    </tr>\n",
       "    <tr>\n",
       "      <th>kot</th>\n",
       "      <td>25</td>\n",
       "      <td>25</td>\n",
       "    </tr>\n",
       "    <tr>\n",
       "      <th>loft</th>\n",
       "      <td>99</td>\n",
       "      <td>99</td>\n",
       "    </tr>\n",
       "    <tr>\n",
       "      <th>penthouse</th>\n",
       "      <td>491</td>\n",
       "      <td>491</td>\n",
       "    </tr>\n",
       "    <tr>\n",
       "      <th>service flat</th>\n",
       "      <td>123</td>\n",
       "      <td>123</td>\n",
       "    </tr>\n",
       "    <tr>\n",
       "      <th>triplex</th>\n",
       "      <td>54</td>\n",
       "      <td>54</td>\n",
       "    </tr>\n",
       "    <tr>\n",
       "      <th rowspan=\"14\" valign=\"top\">house</th>\n",
       "      <th>apartment block</th>\n",
       "      <td>477</td>\n",
       "      <td>477</td>\n",
       "    </tr>\n",
       "    <tr>\n",
       "      <th>bungalow</th>\n",
       "      <td>94</td>\n",
       "      <td>94</td>\n",
       "    </tr>\n",
       "    <tr>\n",
       "      <th>castle</th>\n",
       "      <td>14</td>\n",
       "      <td>14</td>\n",
       "    </tr>\n",
       "    <tr>\n",
       "      <th>chalet</th>\n",
       "      <td>19</td>\n",
       "      <td>19</td>\n",
       "    </tr>\n",
       "    <tr>\n",
       "      <th>country cottage</th>\n",
       "      <td>114</td>\n",
       "      <td>114</td>\n",
       "    </tr>\n",
       "    <tr>\n",
       "      <th>exceptional property</th>\n",
       "      <td>235</td>\n",
       "      <td>235</td>\n",
       "    </tr>\n",
       "    <tr>\n",
       "      <th>farmhouse</th>\n",
       "      <td>40</td>\n",
       "      <td>40</td>\n",
       "    </tr>\n",
       "    <tr>\n",
       "      <th>house</th>\n",
       "      <td>6952</td>\n",
       "      <td>6952</td>\n",
       "    </tr>\n",
       "    <tr>\n",
       "      <th>manor house</th>\n",
       "      <td>30</td>\n",
       "      <td>30</td>\n",
       "    </tr>\n",
       "    <tr>\n",
       "      <th>mansion</th>\n",
       "      <td>207</td>\n",
       "      <td>207</td>\n",
       "    </tr>\n",
       "    <tr>\n",
       "      <th>mixed use building</th>\n",
       "      <td>363</td>\n",
       "      <td>363</td>\n",
       "    </tr>\n",
       "    <tr>\n",
       "      <th>other property</th>\n",
       "      <td>17</td>\n",
       "      <td>17</td>\n",
       "    </tr>\n",
       "    <tr>\n",
       "      <th>town house</th>\n",
       "      <td>117</td>\n",
       "      <td>117</td>\n",
       "    </tr>\n",
       "    <tr>\n",
       "      <th>villa</th>\n",
       "      <td>1146</td>\n",
       "      <td>1146</td>\n",
       "    </tr>\n",
       "  </tbody>\n",
       "</table>\n",
       "</div>"
      ],
      "text/plain": [
       "                                Type  Subtype\n",
       "Type      Subtype                            \n",
       "apartment apartment             6654     6654\n",
       "          duplex                 588      588\n",
       "          flat studio            351      351\n",
       "          ground floor           455      455\n",
       "          kot                     25       25\n",
       "          loft                    99       99\n",
       "          penthouse              491      491\n",
       "          service flat           123      123\n",
       "          triplex                 54       54\n",
       "house     apartment block        477      477\n",
       "          bungalow                94       94\n",
       "          castle                  14       14\n",
       "          chalet                  19       19\n",
       "          country cottage        114      114\n",
       "          exceptional property   235      235\n",
       "          farmhouse               40       40\n",
       "          house                 6952     6952\n",
       "          manor house             30       30\n",
       "          mansion                207      207\n",
       "          mixed use building     363      363\n",
       "          other property          17       17\n",
       "          town house             117      117\n",
       "          villa                 1146     1146"
      ]
     },
     "execution_count": 372,
     "metadata": {},
     "output_type": "execute_result"
    }
   ],
   "source": [
    "df.groupby(['Type','Subtype'])[['Type','Subtype']].agg(\"count\")"
   ]
  },
  {
   "cell_type": "code",
   "execution_count": 376,
   "metadata": {},
   "outputs": [
    {
     "name": "stdout",
     "output_type": "stream",
     "text": [
      "<class 'pandas.core.frame.DataFrame'>\n",
      "Index: 18665 entries, 10578809 to 9577410\n",
      "Data columns (total 21 columns):\n",
      " #   Column                      Non-Null Count  Dtype  \n",
      "---  ------                      --------------  -----  \n",
      " 0   location                    18665 non-null  object \n",
      " 1   Zip                         18665 non-null  int64  \n",
      " 2   Type                        18665 non-null  object \n",
      " 3   Subtype                     18665 non-null  object \n",
      " 4   Price                       18665 non-null  int64  \n",
      " 5   Transaction Type            18665 non-null  object \n",
      " 6   Bedrooms                    18318 non-null  float64\n",
      " 7   Living area                 18030 non-null  float64\n",
      " 8   Kitchen type                14543 non-null  object \n",
      " 9   Furnished                   18665 non-null  float64\n",
      " 10  How many fireplaces?        18665 non-null  float64\n",
      " 11  Terrace                     18665 non-null  object \n",
      " 12  Terrace surface             8666 non-null   float64\n",
      " 13  Garden                      18665 non-null  object \n",
      " 14  Garden surface              4716 non-null   float64\n",
      " 15  Surface of the plot         9292 non-null   float64\n",
      " 16  Number of frontages         14236 non-null  float64\n",
      " 17  Swimming pool               18665 non-null  float64\n",
      " 18  Building condition          15700 non-null  object \n",
      " 19  Primary energy consumption  16016 non-null  float64\n",
      " 20  CO₂ emission                5656 non-null   float64\n",
      "dtypes: float64(11), int64(2), object(8)\n",
      "memory usage: 3.1+ MB\n"
     ]
    }
   ],
   "source": [
    "df.info()"
   ]
  },
  {
   "cell_type": "code",
   "execution_count": 377,
   "metadata": {},
   "outputs": [
    {
     "data": {
      "text/plain": [
       "location                          0\n",
       "Zip                               0\n",
       "Type                              0\n",
       "Subtype                           0\n",
       "Price                             0\n",
       "Transaction Type                  0\n",
       "Bedrooms                        347\n",
       "Living area                     635\n",
       "Kitchen type                   4122\n",
       "Furnished                         0\n",
       "How many fireplaces?              0\n",
       "Terrace                           0\n",
       "Terrace surface                9999\n",
       "Garden                            0\n",
       "Garden surface                13949\n",
       "Surface of the plot            9373\n",
       "Number of frontages            4429\n",
       "Swimming pool                     0\n",
       "Building condition             2965\n",
       "Primary energy consumption     2649\n",
       "CO₂ emission                  13009\n",
       "dtype: int64"
      ]
     },
     "execution_count": 377,
     "metadata": {},
     "output_type": "execute_result"
    }
   ],
   "source": [
    "df.isna().sum()"
   ]
  }
 ],
 "metadata": {
  "kernelspec": {
   "display_name": "venv",
   "language": "python",
   "name": "python3"
  },
  "language_info": {
   "codemirror_mode": {
    "name": "ipython",
    "version": 3
   },
   "file_extension": ".py",
   "mimetype": "text/x-python",
   "name": "python",
   "nbconvert_exporter": "python",
   "pygments_lexer": "ipython3",
   "version": "3.11.2"
  },
  "orig_nbformat": 4
 },
 "nbformat": 4,
 "nbformat_minor": 2
}
