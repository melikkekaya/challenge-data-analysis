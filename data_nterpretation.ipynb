{
 "cells": [
  {
   "cell_type": "code",
   "execution_count": 1,
   "metadata": {},
   "outputs": [],
   "source": [
    "import pandas as pd\n",
    "import urllib.parse\n",
    "import re\n",
    "import numpy as np\n",
    "import matplotlib.pyplot as plt\n",
    "import seaborn as sns"
   ]
  },
  {
   "cell_type": "code",
   "execution_count": null,
   "metadata": {},
   "outputs": [],
   "source": [
    "df = pd.read_csv(\"clean_data.csv\", low_memory=False)"
   ]
  },
  {
   "cell_type": "code",
   "execution_count": null,
   "metadata": {},
   "outputs": [],
   "source": [
    "print(f\"The DataFrame has {df.shape[0]} rows and {df.shape[1]} columns.\")"
   ]
  },
  {
   "cell_type": "code",
   "execution_count": null,
   "metadata": {},
   "outputs": [],
   "source": [
    "df_houses = df[df['Type of property'] == 'house']\n",
    "df_apartments = df[df['Type of property'] == 'apartment']\n",
    "\n",
    "all_missing_value_df = df.isnull().mean() * 100\n",
    "houses_missing_value_df = df_houses.isnull().mean() * 100\n",
    "apartments_missing_value_df = df_apartments.isnull().mean() * 100\n",
    "\n",
    "print(\"all_missing_value\")\n",
    "print(all_missing_value_df)\n",
    "print(\"\")\n",
    "print(\"houses_missing_value\")\n",
    "print(houses_missing_value_df)\n",
    "print(\"\")\n",
    "print(\"apartments_missing\")\n",
    "print(apartments_missing_value_df)"
   ]
  },
  {
   "cell_type": "code",
   "execution_count": null,
   "metadata": {},
   "outputs": [],
   "source": [
    "# Define provinces in each region\n",
    "flanders_provinces = ['Flemish Brabant','Antwerp','Limburg','West Flanders','East Flanders']\n",
    "wallonia_provinces = ['Walloon Brabant','Liège','Namur','Hainaut','Luxembourg']\n",
    "brussels_provinces = ['Brussels Capital Region']\n",
    "\n",
    "df_flanders = df[df['Province'].isin(flanders_provinces)]\n",
    "df_wallonia = df[df['Province'].isin(wallonia_provinces)]\n",
    "df_brussels = df[df['Province'].isin(brussels_provinces)]\n"
   ]
  },
  {
   "cell_type": "code",
   "execution_count": null,
   "metadata": {},
   "outputs": [],
   "source": [
    "def calculate_metrics(region_df):\n",
    "    return region_df.groupby('Zip').agg(Avg_Price=('Price','mean'),\n",
    "                                        Median_Price=('Price','median'),\n",
    "                                        Price_Per_Sq_Meter=('Price of square meter','mean'))"
   ]
  },
  {
   "cell_type": "code",
   "execution_count": null,
   "metadata": {},
   "outputs": [],
   "source": [
    "belgium_metrics = calculate_metrics(df)\n",
    "flanders_metrics = calculate_metrics(df_flanders)\n",
    "wallonia_metrics = calculate_metrics(df_wallonia)\n",
    "brussels_metrics = calculate_metrics(df_brussels)\n",
    "\n",
    "\n",
    "most_expensive_belgium = belgium_metrics['Avg_Price'].idxmax()\n",
    "least_expensive_belgium = belgium_metrics['Avg_Price'].idxmin()\n",
    "\n",
    "most_expensive_flanders = flanders_metrics['Avg_Price'].idxmax()\n",
    "least_expensive_flanders = flanders_metrics['Avg_Price'].idxmin()\n",
    "\n",
    "most_expensive_wallonia = wallonia_metrics['Avg_Price'].idxmax()\n",
    "least_expensive_wallonia = wallonia_metrics['Avg_Price'].idxmin()\n",
    "\n",
    "most_expensive_brussels = brussels_metrics['Avg_Price'].idxmax()\n",
    "least_expensive_brussels = brussels_metrics['Avg_Price'].idxmin()"
   ]
  },
  {
   "cell_type": "code",
   "execution_count": null,
   "metadata": {},
   "outputs": [],
   "source": [
    "pd.set_option('display.float_format', '{:.2f}'.format)\n",
    "\n",
    "print(f'Most expensive municipality in Belgium: {most_expensive_belgium}')\n",
    "print(belgium_metrics.loc[most_expensive_belgium])\n",
    "print(f'Least expensive municipality in Belgium: {least_expensive_belgium}')\n",
    "print(belgium_metrics.loc[least_expensive_belgium])\n",
    "\n",
    "print(f'Most expensive municipality in Flanders: {most_expensive_flanders}')\n",
    "print(flanders_metrics.loc[most_expensive_flanders])\n",
    "print(f'Least expensive municipality in Flanders: {least_expensive_flanders}')\n",
    "print(flanders_metrics.loc[least_expensive_flanders])\n",
    "\n",
    "print(f'Most expensive municipality in Wallonia: {most_expensive_wallonia}')\n",
    "print(wallonia_metrics.loc[most_expensive_wallonia])\n",
    "print(f'Least expensive municipality in Wallonia: {least_expensive_wallonia}')\n",
    "print(wallonia_metrics.loc[least_expensive_wallonia])\n",
    "\n",
    "print(f'Most expensive municipality in Brussels: {most_expensive_brussels}')\n",
    "print(brussels_metrics.loc[most_expensive_brussels])\n",
    "print(f'Least expensive municipality in Brussels: {least_expensive_brussels}')\n",
    "print(brussels_metrics.loc[least_expensive_brussels])\n"
   ]
  }
 ],
 "metadata": {
  "kernelspec": {
   "display_name": "env",
   "language": "python",
   "name": "python3"
  },
  "language_info": {
   "codemirror_mode": {
    "name": "ipython",
    "version": 3
   },
   "file_extension": ".py",
   "mimetype": "text/x-python",
   "name": "python",
   "nbconvert_exporter": "python",
   "pygments_lexer": "ipython3",
   "version": "3.10.6"
  },
  "orig_nbformat": 4
 },
 "nbformat": 4,
 "nbformat_minor": 2
}
