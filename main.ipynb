{
 "cells": [
  {
   "cell_type": "code",
   "execution_count": null,
   "metadata": {},
   "outputs": [],
   "source": [
    "import pandas as pd\n",
    "import re\n",
    "import numpy as np"
   ]
  },
  {
   "cell_type": "code",
   "execution_count": null,
   "metadata": {},
   "outputs": [],
   "source": [
    "df_main = pd.read_csv(\"properties_data.csv\")"
   ]
  },
  {
   "cell_type": "code",
   "execution_count": null,
   "metadata": {},
   "outputs": [],
   "source": [
    "df = df_main[[\"id\",\"location\",\"Zip\",\"Type\",\"Subtype\",\n",
    "    \"Price\",\"Transaction Type\",\"Bedrooms\",\"Living area\",\"Kitchen type\",\n",
    "    \"Furnished\",\"How many fireplaces?\",\"Terrace\",\"Terrace surface\",\n",
    "    \"Garden\",\"Garden surface\",\"Surface of the plot\",\"Number of frontages\",\n",
    "    \"Swimming pool\",\"Building condition\",\"Primary energy consumption\",\"CO₂ emission\"]]"
   ]
  },
  {
   "cell_type": "code",
   "execution_count": null,
   "metadata": {},
   "outputs": [],
   "source": [
    "df.info()"
   ]
  },
  {
   "cell_type": "code",
   "execution_count": null,
   "metadata": {},
   "outputs": [],
   "source": [
    "df = df.set_index(\"id\")"
   ]
  },
  {
   "cell_type": "code",
   "execution_count": null,
   "metadata": {},
   "outputs": [],
   "source": [
    "df = df.drop(df[df[\"Type\"]==\"house group\"].index)\n",
    "df = df.drop(df[df[\"Type\"]==\"apartment group\"].index)"
   ]
  },
  {
   "cell_type": "code",
   "execution_count": null,
   "metadata": {},
   "outputs": [],
   "source": [
    "def clean_and_convert(column):\n",
    "    column = column.apply(lambda x: re.sub('\\D+', '', str(x)))\n",
    "    # column = column.replace('', np.nan).fillna(0).astype(int)\n",
    "    return column\n",
    "\n",
    "df['Living area'] = clean_and_convert(df['Living area'])\n",
    "df['Terrace surface'] = clean_and_convert(df['Terrace surface'])\n",
    "df['Garden surface'] = clean_and_convert(df['Garden surface'])\n",
    "df['Surface of the plot'] = clean_and_convert(df['Surface of the plot'])\n",
    "df['Primary energy consumption'] = clean_and_convert(df['Primary energy consumption'])\n",
    "df['CO₂ emission'] = clean_and_convert(df['CO₂ emission'])\n",
    "\n"
   ]
  },
  {
   "cell_type": "code",
   "execution_count": null,
   "metadata": {},
   "outputs": [],
   "source": [
    "df"
   ]
  },
  {
   "cell_type": "code",
   "execution_count": null,
   "metadata": {},
   "outputs": [],
   "source": [
    "df.info()"
   ]
  },
  {
   "cell_type": "code",
   "execution_count": null,
   "metadata": {},
   "outputs": [],
   "source": [
    "# to change garden column into 1 and 0s\n",
    "df[\"Garden\"] = np.where((df[\"Garden\"] == \"Yes\") & (df[\"Garden surface\"] == \"\"), 1, df[\"Garden\"])\n",
    "df[\"Garden\"] = np.where((df[\"Garden\"] != \"Yes\") & (df[\"Garden surface\"] != \"\"), 1, df[\"Garden\"])\n",
    "df[\"Garden\"] = df[\"Garden\"].replace(\"\",np.nan).fillna(0).astype(int)"
   ]
  },
  {
   "cell_type": "code",
   "execution_count": null,
   "metadata": {},
   "outputs": [],
   "source": [
    "# to change terrace column into 1 and 0s\n",
    "df[\"Terrace\"] = np.where((df[\"Terrace\"] == \"Yes\") & (df[\"Terrace surface\"] == \"\"), 1, df[\"Terrace\"])\n",
    "df[\"Terrace\"] = np.where((df[\"Terrace\"] != \"Yes\") & (df[\"Terrace surface\"] != \"\"), 1, df[\"Terrace\"])\n",
    "df[\"Terrace\"] = df[\"Terrace\"].replace(\"\",np.nan).fillna(0).astype(int)"
   ]
  },
  {
   "cell_type": "code",
   "execution_count": null,
   "metadata": {},
   "outputs": [],
   "source": [
    "def nan_replacement(column):\n",
    "    column = column.replace(\"Yes\",1)\n",
    "    column = column.replace(\"No\",0)\n",
    "    column = column.replace('', np.nan).fillna(0)\n",
    "    return column\n",
    "\n",
    "df['Furnished'] = nan_replacement(df['Furnished'])\n",
    "df['Swimming pool'] = nan_replacement(df['Swimming pool'])\n",
    "df['How many fireplaces?'] = nan_replacement(df['How many fireplaces?'])"
   ]
  },
  {
   "cell_type": "code",
   "execution_count": null,
   "metadata": {},
   "outputs": [],
   "source": [
    "#Missing values fillied with 1\n",
    "df[\"Primary energy consumption\"] = np.where((df[\"Primary energy consumption\"] != int) & (df[\"Primary energy consumption\"] == \"\"), 0, df[\"Primary energy consumption\"])\n",
    "df[\"Primary energy consumption\"] = df[\"Primary energy consumption\"].replace(\"\",np.nan).fillna(0).astype(int)\n",
    "\n"
   ]
  },
  {
   "cell_type": "code",
   "execution_count": null,
   "metadata": {},
   "outputs": [],
   "source": [
    "#New column with energy classes \n",
    "conditions = [\n",
    "    (df['Primary energy consumption']>1)&(df['Primary energy consumption']<100),\n",
    "    (df['Primary energy consumption']>100)&(df['Primary energy consumption']<200),\n",
    "    (df['Primary energy consumption']>200)&(df['Primary energy consumption']<300),\n",
    "    (df['Primary energy consumption']>300)&(df['Primary energy consumption']<400),\n",
    "    (df['Primary energy consumption']>400)&(df['Primary energy consumption']<500),\n",
    "    (df['Primary energy consumption']>500)&(df['Primary energy consumption']<600),\n",
    "    (df['Primary energy consumption']>600)\n",
    "]\n",
    "\n",
    "values = ['A', 'B', 'C', 'D', 'E', 'F', 'G']\n",
    "\n",
    "\n",
    "df['Energy_classes'] = np.select(conditions, values)\n",
    "\n",
    "\n",
    "#df.to_csv('almost_clean.csv')"
   ]
  }
 ],
 "metadata": {
  "kernelspec": {
   "display_name": "venv",
   "language": "python",
   "name": "python3"
  },
  "language_info": {
   "codemirror_mode": {
    "name": "ipython",
    "version": 3
   },
   "file_extension": ".py",
   "mimetype": "text/x-python",
   "name": "python",
   "nbconvert_exporter": "python",
   "pygments_lexer": "ipython3",
   "version": "3.11.2"
  },
  "orig_nbformat": 4
 },
 "nbformat": 4,
 "nbformat_minor": 2
}
