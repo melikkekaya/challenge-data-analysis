{
 "cells": [
  {
   "cell_type": "code",
   "execution_count": 106,
   "metadata": {},
   "outputs": [],
   "source": [
    "import pandas as pd\n",
    "import matplotlib.pyplot as plt\n",
    "import numpy as np"
   ]
  },
  {
   "cell_type": "code",
   "execution_count": 107,
   "metadata": {},
   "outputs": [],
   "source": [
    "#importing df\n",
    "df = pd.read_csv('properties_data.csv', low_memory=False)"
   ]
  },
  {
   "cell_type": "code",
   "execution_count": 108,
   "metadata": {},
   "outputs": [],
   "source": [
    "# List of the colums we will be looking at\n",
    "df = df[[\"id\",\"location\",\"Zip\",\"Type\",\"Subtype\",\n",
    "    \"Price\",\"Transaction Type\",\"Bedrooms\",\"Living area\",\"Kitchen type\",\n",
    "    \"Furnished\",\"How many fireplaces?\",\"Terrace\",\"Terrace surface\",\n",
    "    \"Garden\",\"Garden surface\",\"Surface of the plot\",\"Number of frontages\",\n",
    "    \"Swimming pool\",\"Building condition\"]]"
   ]
  },
  {
   "cell_type": "code",
   "execution_count": 109,
   "metadata": {},
   "outputs": [
    {
     "data": {
      "text/plain": [
       "2"
      ]
     },
     "execution_count": 109,
     "metadata": {},
     "output_type": "execute_result"
    }
   ],
   "source": [
    "#checking for dupes\n",
    "df.duplicated().sum()"
   ]
  },
  {
   "cell_type": "code",
   "execution_count": 110,
   "metadata": {},
   "outputs": [],
   "source": [
    "#dropping dupes\n",
    "df = df.drop_duplicates()"
   ]
  },
  {
   "cell_type": "code",
   "execution_count": 111,
   "metadata": {},
   "outputs": [
    {
     "data": {
      "text/plain": [
       "0"
      ]
     },
     "execution_count": 111,
     "metadata": {},
     "output_type": "execute_result"
    }
   ],
   "source": [
    "#checking the dupes again\n",
    "df.duplicated().sum()"
   ]
  },
  {
   "cell_type": "code",
   "execution_count": 112,
   "metadata": {},
   "outputs": [],
   "source": [
    "# Convert integer columns to strings\n",
    "df = df.astype(str)"
   ]
  },
  {
   "cell_type": "code",
   "execution_count": 113,
   "metadata": {},
   "outputs": [],
   "source": [
    "# Remove leading and trailing whitespace from all columns\n",
    "df = df.applymap(str.strip)"
   ]
  },
  {
   "cell_type": "code",
   "execution_count": 114,
   "metadata": {},
   "outputs": [
    {
     "data": {
      "text/plain": [
       "id                      0\n",
       "location                0\n",
       "Zip                     0\n",
       "Type                    0\n",
       "Subtype                 0\n",
       "Price                   0\n",
       "Transaction Type        0\n",
       "Bedrooms                0\n",
       "Living area             0\n",
       "Kitchen type            0\n",
       "Furnished               0\n",
       "How many fireplaces?    0\n",
       "Terrace                 0\n",
       "Terrace surface         0\n",
       "Garden                  0\n",
       "Garden surface          0\n",
       "Surface of the plot     0\n",
       "Number of frontages     0\n",
       "Swimming pool           0\n",
       "Building condition      0\n",
       "dtype: int64"
      ]
     },
     "execution_count": 114,
     "metadata": {},
     "output_type": "execute_result"
    }
   ],
   "source": [
    "# Number of missing values in each column\n",
    "df.isnull().sum()"
   ]
  },
  {
   "cell_type": "code",
   "execution_count": 115,
   "metadata": {},
   "outputs": [],
   "source": [
    "#Dropping the missing rows.\n",
    "df = df.dropna(how = 'any')"
   ]
  },
  {
   "cell_type": "code",
   "execution_count": 116,
   "metadata": {},
   "outputs": [],
   "source": [
    "# Remove rows with empty values (excluding NaN)\n",
    "df = df.replace('', pd.NA).dropna()"
   ]
  },
  {
   "cell_type": "code",
   "execution_count": 117,
   "metadata": {},
   "outputs": [],
   "source": [
    "# Reset the index after removing rows\n",
    "df = df.reset_index(drop=True)"
   ]
  },
  {
   "cell_type": "code",
   "execution_count": 118,
   "metadata": {},
   "outputs": [],
   "source": [
    "# Drop rows with \"Type\" equal to \"house group\"\n",
    "df = df.drop(df[df['Type'] == 'house group'].index)"
   ]
  },
  {
   "cell_type": "code",
   "execution_count": 119,
   "metadata": {},
   "outputs": [],
   "source": [
    "# Drop rows with \"Type\" equal to \"apartment group\"\n",
    "df = df.drop(df[df['Type'] == 'apartment group'].index)"
   ]
  },
  {
   "cell_type": "code",
   "execution_count": 120,
   "metadata": {},
   "outputs": [
    {
     "name": "stdout",
     "output_type": "stream",
     "text": [
      "(18663, 20)\n"
     ]
    }
   ],
   "source": [
    "#Size of original df\n",
    "print(df.shape)"
   ]
  },
  {
   "cell_type": "code",
   "execution_count": 121,
   "metadata": {},
   "outputs": [
    {
     "name": "stdout",
     "output_type": "stream",
     "text": [
      "<class 'pandas.core.frame.DataFrame'>\n",
      "Index: 18663 entries, 1 to 19973\n",
      "Data columns (total 20 columns):\n",
      " #   Column                Non-Null Count  Dtype \n",
      "---  ------                --------------  ----- \n",
      " 0   id                    18663 non-null  object\n",
      " 1   location              18663 non-null  object\n",
      " 2   Zip                   18663 non-null  object\n",
      " 3   Type                  18663 non-null  object\n",
      " 4   Subtype               18663 non-null  object\n",
      " 5   Price                 18663 non-null  object\n",
      " 6   Transaction Type      18663 non-null  object\n",
      " 7   Bedrooms              18663 non-null  object\n",
      " 8   Living area           18663 non-null  object\n",
      " 9   Kitchen type          18663 non-null  object\n",
      " 10  Furnished             18663 non-null  object\n",
      " 11  How many fireplaces?  18663 non-null  object\n",
      " 12  Terrace               18663 non-null  object\n",
      " 13  Terrace surface       18663 non-null  object\n",
      " 14  Garden                18663 non-null  object\n",
      " 15  Garden surface        18663 non-null  object\n",
      " 16  Surface of the plot   18663 non-null  object\n",
      " 17  Number of frontages   18663 non-null  object\n",
      " 18  Swimming pool         18663 non-null  object\n",
      " 19  Building condition    18663 non-null  object\n",
      "dtypes: object(20)\n",
      "memory usage: 3.0+ MB\n"
     ]
    }
   ],
   "source": [
    "df.info()"
   ]
  },
  {
   "cell_type": "code",
   "execution_count": 122,
   "metadata": {},
   "outputs": [],
   "source": [
    "# Save the cleaned DataFrame to a new file (e.g., 'cleaned_data.csv')\n",
    "#df.to_csv('cleaned.csv')"
   ]
  }
 ],
 "metadata": {
  "kernelspec": {
   "display_name": "cleaningenv",
   "language": "python",
   "name": "python3"
  },
  "language_info": {
   "codemirror_mode": {
    "name": "ipython",
    "version": 3
   },
   "file_extension": ".py",
   "mimetype": "text/x-python",
   "name": "python",
   "nbconvert_exporter": "python",
   "pygments_lexer": "ipython3",
   "version": "3.11.0rc1"
  },
  "orig_nbformat": 4
 },
 "nbformat": 4,
 "nbformat_minor": 2
}
