{
 "cells": [
  {
   "cell_type": "code",
   "execution_count": 4,
   "metadata": {},
   "outputs": [
    {
     "name": "stderr",
     "output_type": "stream",
     "text": [
      "/tmp/ipykernel_1726/43969156.py:5: DtypeWarning: Columns (41,42,43,44,90,91,92,93,113,115) have mixed types. Specify dtype option on import or set low_memory=False.\n",
      "  df = pd.read_csv('properties_data.csv')\n"
     ]
    }
   ],
   "source": [
    "import pandas as pd\n",
    "import re\n",
    "import numpy as np\n",
    "\n",
    "df = pd.read_csv('properties_data.csv')\n",
    "df = df.drop_duplicates(subset='id')\n",
    "\n",
    "filtered_columns = ['id','location', 'Number of frontages', 'Type', 'Subtype', \n",
    "           'Price', 'Transaction Type', 'Bedrooms', 'Living area', \n",
    "           'Kitchen type', 'Furnished', 'How many fireplaces?', 'Terrace surface', \n",
    "           'Garden surface', 'Surface of the plot', 'Swimming pool', 'Building condition']\n",
    "\n",
    "df = df[filtered_columns]\n",
    "\n",
    "df = df.drop(df[df[\"Type\"]==\"house group\"].index)\n",
    "df = df.drop(df[df[\"Type\"]==\"apartment group\"].index)\n",
    "\n",
    "df = df.rename(columns={\n",
    "    'location' :'Locality',\n",
    "    'Transaction Type' : 'Type of sale',\n",
    "    'Type' :'Type of property',\n",
    "    'Subtype' : 'Subtype of property',\n",
    "    'Number of frontages': 'Number of facades',\n",
    "    'Bedrooms':'Number of rooms',\n",
    "    'Surface of the plot' :'Surface of the land',\n",
    "    'Garden surface':'Garden', \n",
    "    'Terrace surface':'Terrace',\n",
    "    'Kitchen type' : 'Fully equipped kitchen',\n",
    "    'How many fireplaces?' : 'Open fire'\n",
    "})\n",
    "\n",
    "\n",
    "def clean_and_convert(column):\n",
    "    column = column.apply(lambda x: re.sub('\\D+', '', str(x)))\n",
    "    column = column.replace('', np.nan).fillna(0).astype(int)\n",
    "    return column\n",
    "\n",
    "df['Living area'] = clean_and_convert(df['Living area'])\n",
    "df['Terrace'] = clean_and_convert(df['Terrace'])\n",
    "df['Garden'] = clean_and_convert(df['Garden'])\n",
    "df['Surface of the land'] = clean_and_convert(df['Surface of the land'])\n",
    "\n",
    "#put the columns in a specific order\n",
    "df = df.reindex(columns=['id', 'Locality', 'Type of property', 'Subtype of property',\n",
    "                         'Type of sale', 'Price', 'Number of facades', 'Number of rooms', \n",
    "                         'Living area', 'Fully equipped kitchen', 'Furnished', \n",
    "                         'Surface of the land', 'Terrace', 'Garden', 'Open fire', \n",
    "                         'Swimming pool'])\n",
    "\n",
    "df.to_csv('properties_clean.csv', index=False)"
   ]
  },
  {
   "attachments": {},
   "cell_type": "markdown",
   "metadata": {},
   "source": []
  }
 ],
 "metadata": {
  "kernelspec": {
   "display_name": "env",
   "language": "python",
   "name": "python3"
  },
  "language_info": {
   "codemirror_mode": {
    "name": "ipython",
    "version": 3
   },
   "file_extension": ".py",
   "mimetype": "text/x-python",
   "name": "python",
   "nbconvert_exporter": "python",
   "pygments_lexer": "ipython3",
   "version": "3.10.6"
  },
  "orig_nbformat": 4
 },
 "nbformat": 4,
 "nbformat_minor": 2
}
