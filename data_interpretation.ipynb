{
 "cells": [
  {
   "cell_type": "code",
   "execution_count": 1,
   "metadata": {},
   "outputs": [],
   "source": [
    "import pandas as pd\n",
    "import urllib.parse\n",
    "import re\n",
    "import numpy as np\n",
    "import matplotlib.pyplot as plt\n",
    "import seaborn as sns"
   ]
  },
  {
   "cell_type": "code",
   "execution_count": 2,
   "metadata": {},
   "outputs": [],
   "source": [
    "df = pd.read_csv(\"clean_data.csv\", low_memory=False)"
   ]
  },
  {
   "cell_type": "code",
   "execution_count": 3,
   "metadata": {},
   "outputs": [
    {
     "name": "stdout",
     "output_type": "stream",
     "text": [
      "The DataFrame has 18030 rows and 26 columns.\n"
     ]
    }
   ],
   "source": [
    "print(f\"The DataFrame has {df.shape[0]} rows and {df.shape[1]} columns.\")"
   ]
  },
  {
   "cell_type": "code",
   "execution_count": 4,
   "metadata": {},
   "outputs": [
    {
     "name": "stdout",
     "output_type": "stream",
     "text": [
      "all_missing_value\n",
      "id                             0.000000\n",
      "Locality                       0.000000\n",
      "Zip                            0.000000\n",
      "Province                       0.000000\n",
      "Type of property               0.000000\n",
      "Subtype of property            0.000000\n",
      "Type of sale                   0.000000\n",
      "Price                          0.000000\n",
      "Price of square meter          0.000000\n",
      "Building condition            15.768164\n",
      "Building Cond. values          0.000000\n",
      "Number of facades             23.305602\n",
      "Number of rooms                1.835829\n",
      "Living area                    0.000000\n",
      "Furnished                      0.000000\n",
      "Fully equipped kitchen        21.813644\n",
      "Kitchen values                 0.000000\n",
      "Surface of the land           49.833611\n",
      "Primary energy consumption     0.000000\n",
      "Energy_classes                 0.000000\n",
      "Terrace                        0.000000\n",
      "Terrace surface               23.893511\n",
      "Garden                         0.000000\n",
      "Garden surface                12.246256\n",
      "Open fire                      0.000000\n",
      "Swimming pool                  0.000000\n",
      "dtype: float64\n",
      "\n",
      "houses_missing_value\n",
      "id                             0.000000\n",
      "Locality                       0.000000\n",
      "Zip                            0.000000\n",
      "Province                       0.000000\n",
      "Type of property               0.000000\n",
      "Subtype of property            0.000000\n",
      "Type of sale                   0.000000\n",
      "Price                          0.000000\n",
      "Price of square meter          0.000000\n",
      "Building condition            10.850194\n",
      "Building Cond. values          0.000000\n",
      "Number of facades             12.401719\n",
      "Number of rooms                0.681413\n",
      "Living area                    0.000000\n",
      "Furnished                      0.000000\n",
      "Fully equipped kitchen        20.620610\n",
      "Kitchen values                 0.000000\n",
      "Surface of the land            5.178740\n",
      "Primary energy consumption     0.000000\n",
      "Energy_classes                 0.000000\n",
      "Terrace                        0.000000\n",
      "Terrace surface               29.468498\n",
      "Garden                         0.000000\n",
      "Garden surface                17.045812\n",
      "Open fire                      0.000000\n",
      "Swimming pool                  0.000000\n",
      "dtype: float64\n",
      "\n",
      "apartments_missing\n",
      "id                              0.000000\n",
      "Locality                        0.000000\n",
      "Zip                             0.000000\n",
      "Province                        0.000000\n",
      "Type of property                0.000000\n",
      "Subtype of property             0.000000\n",
      "Type of sale                    0.000000\n",
      "Price                           0.000000\n",
      "Price of square meter           0.000000\n",
      "Building condition             21.293134\n",
      "Building Cond. values           0.000000\n",
      "Number of facades              35.555294\n",
      "Number of rooms                 3.132729\n",
      "Living area                     0.000000\n",
      "Furnished                       0.000000\n",
      "Fully equipped kitchen         23.153928\n",
      "Kitchen values                  0.000000\n",
      "Surface of the land           100.000000\n",
      "Primary energy consumption      0.000000\n",
      "Energy_classes                  0.000000\n",
      "Terrace                         0.000000\n",
      "Terrace surface                17.630432\n",
      "Garden                          0.000000\n",
      "Garden surface                  6.854316\n",
      "Open fire                       0.000000\n",
      "Swimming pool                   0.000000\n",
      "dtype: float64\n"
     ]
    }
   ],
   "source": [
    "df_houses = df[df['Type of property'] == 'house']\n",
    "df_apartments = df[df['Type of property'] == 'apartment']\n",
    "\n",
    "all_missing_value_df = df.isnull().mean() * 100\n",
    "houses_missing_value_df = df_houses.isnull().mean() * 100\n",
    "apartments_missing_value_df = df_apartments.isnull().mean() * 100\n",
    "\n",
    "print(\"all_missing_value\")\n",
    "print(all_missing_value_df)\n",
    "print(\"\")\n",
    "print(\"houses_missing_value\")\n",
    "print(houses_missing_value_df)\n",
    "print(\"\")\n",
    "print(\"apartments_missing\")\n",
    "print(apartments_missing_value_df)"
   ]
  },
  {
   "cell_type": "code",
   "execution_count": 5,
   "metadata": {},
   "outputs": [],
   "source": [
    "# Define provinces in each region\n",
    "flanders_provinces = ['Flemish Brabant','Antwerp','Limburg','West Flanders','East Flanders']\n",
    "wallonia_provinces = ['Walloon Brabant','Liège','Namur','Hainaut','Luxembourg']\n",
    "brussels_provinces = ['Brussels Capital Region']\n",
    "\n",
    "df_flanders = df[df['Province'].isin(flanders_provinces)]\n",
    "df_wallonia = df[df['Province'].isin(wallonia_provinces)]\n",
    "df_brussels = df[df['Province'].isin(brussels_provinces)]\n"
   ]
  },
  {
   "cell_type": "code",
   "execution_count": 6,
   "metadata": {},
   "outputs": [],
   "source": [
    "def calculate_metrics(region_df):\n",
    "    return region_df.groupby('Zip').agg(Avg_Price=('Price','mean'),\n",
    "                                        Median_Price=('Price','median'),\n",
    "                                        Price_Per_Sq_Meter=('Price of square meter','mean'))"
   ]
  },
  {
   "cell_type": "code",
   "execution_count": 7,
   "metadata": {},
   "outputs": [],
   "source": [
    "belgium_metrics = calculate_metrics(df)\n",
    "flanders_metrics = calculate_metrics(df_flanders)\n",
    "wallonia_metrics = calculate_metrics(df_wallonia)\n",
    "brussels_metrics = calculate_metrics(df_brussels)\n",
    "\n",
    "\n",
    "most_expensive_belgium = belgium_metrics['Avg_Price'].idxmax()\n",
    "least_expensive_belgium = belgium_metrics['Avg_Price'].idxmin()\n",
    "\n",
    "most_expensive_flanders = flanders_metrics['Avg_Price'].idxmax()\n",
    "least_expensive_flanders = flanders_metrics['Avg_Price'].idxmin()\n",
    "\n",
    "most_expensive_wallonia = wallonia_metrics['Avg_Price'].idxmax()\n",
    "least_expensive_wallonia = wallonia_metrics['Avg_Price'].idxmin()\n",
    "\n",
    "most_expensive_brussels = brussels_metrics['Avg_Price'].idxmax()\n",
    "least_expensive_brussels = brussels_metrics['Avg_Price'].idxmin()"
   ]
  },
  {
   "cell_type": "code",
   "execution_count": 8,
   "metadata": {},
   "outputs": [
    {
     "name": "stdout",
     "output_type": "stream",
     "text": [
      "Most expensive municipality in Belgium: 8902\n",
      "Avg_Price            2500000.00\n",
      "Median_Price         2500000.00\n",
      "Price_Per_Sq_Meter      3333.33\n",
      "Name: 8902, dtype: float64\n",
      "Least expensive municipality in Belgium: 5680\n",
      "Avg_Price            49950.00\n",
      "Median_Price         49950.00\n",
      "Price_Per_Sq_Meter     445.40\n",
      "Name: 5680, dtype: float64\n",
      "Most expensive municipality in Flanders: 8902\n",
      "Avg_Price            2500000.00\n",
      "Median_Price         2500000.00\n",
      "Price_Per_Sq_Meter      3333.33\n",
      "Name: 8902, dtype: float64\n",
      "Least expensive municipality in Flanders: 9970\n",
      "Avg_Price            168000.00\n",
      "Median_Price         168000.00\n",
      "Price_Per_Sq_Meter     1768.42\n",
      "Name: 9970, dtype: float64\n",
      "Most expensive municipality in Wallonia: 1380\n",
      "Avg_Price            1396184.35\n",
      "Median_Price         1195000.00\n",
      "Price_Per_Sq_Meter      3812.90\n",
      "Name: 1380, dtype: float64\n",
      "Least expensive municipality in Wallonia: 5680\n",
      "Avg_Price            49950.00\n",
      "Median_Price         49950.00\n",
      "Price_Per_Sq_Meter     445.40\n",
      "Name: 5680, dtype: float64\n",
      "Most expensive municipality in Brussels: 1050\n",
      "Avg_Price            1203591.64\n",
      "Median_Price          785000.00\n",
      "Price_Per_Sq_Meter      5013.60\n",
      "Name: 1050, dtype: float64\n",
      "Least expensive municipality in Brussels: 1083\n",
      "Avg_Price            283877.60\n",
      "Median_Price         229990.00\n",
      "Price_Per_Sq_Meter     2618.44\n",
      "Name: 1083, dtype: float64\n"
     ]
    }
   ],
   "source": [
    "pd.set_option('display.float_format', '{:.2f}'.format)\n",
    "\n",
    "print(f'Most expensive municipality in Belgium: {most_expensive_belgium}')\n",
    "print(belgium_metrics.loc[most_expensive_belgium])\n",
    "print(f'Least expensive municipality in Belgium: {least_expensive_belgium}')\n",
    "print(belgium_metrics.loc[least_expensive_belgium])\n",
    "\n",
    "print(f'Most expensive municipality in Flanders: {most_expensive_flanders}')\n",
    "print(flanders_metrics.loc[most_expensive_flanders])\n",
    "print(f'Least expensive municipality in Flanders: {least_expensive_flanders}')\n",
    "print(flanders_metrics.loc[least_expensive_flanders])\n",
    "\n",
    "print(f'Most expensive municipality in Wallonia: {most_expensive_wallonia}')\n",
    "print(wallonia_metrics.loc[most_expensive_wallonia])\n",
    "print(f'Least expensive municipality in Wallonia: {least_expensive_wallonia}')\n",
    "print(wallonia_metrics.loc[least_expensive_wallonia])\n",
    "\n",
    "print(f'Most expensive municipality in Brussels: {most_expensive_brussels}')\n",
    "print(brussels_metrics.loc[most_expensive_brussels])\n",
    "print(f'Least expensive municipality in Brussels: {least_expensive_brussels}')\n",
    "print(brussels_metrics.loc[least_expensive_brussels])\n"
   ]
  }
 ],
 "metadata": {
  "kernelspec": {
   "display_name": "env",
   "language": "python",
   "name": "python3"
  },
  "language_info": {
   "codemirror_mode": {
    "name": "ipython",
    "version": 3
   },
   "file_extension": ".py",
   "mimetype": "text/x-python",
   "name": "python",
   "nbconvert_exporter": "python",
   "pygments_lexer": "ipython3",
   "version": "3.10.6"
  },
  "orig_nbformat": 4
 },
 "nbformat": 4,
 "nbformat_minor": 2
}
