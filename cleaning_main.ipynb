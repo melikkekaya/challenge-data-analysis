{
 "cells": [
  {
   "cell_type": "code",
   "execution_count": 53,
   "metadata": {},
   "outputs": [],
   "source": [
    "import pandas as pd\n",
    "import numpy as np\n",
    "import re, urllib.parse, matplotlib"
   ]
  },
  {
   "cell_type": "code",
   "execution_count": 54,
   "metadata": {},
   "outputs": [
    {
     "name": "stderr",
     "output_type": "stream",
     "text": [
      "/var/folders/lh/rbpzcs3522qg45v9lc_xvgyc0000gn/T/ipykernel_94458/392842248.py:1: DtypeWarning: Columns (41,42,43,44,90,91,92,93,113,115) have mixed types. Specify dtype option on import or set low_memory=False.\n",
      "  df_main = pd.read_csv(\"properties_data.csv\")\n"
     ]
    }
   ],
   "source": [
    "df_main = pd.read_csv(\"properties_data.csv\")\n",
    "df = df_main[[\"id\",\"location\",\"Zip\",\"Type\",\"Subtype\",\n",
    "    \"Price\",\"Transaction Type\",\"Bedrooms\",\"Living area\",\"Kitchen type\",\n",
    "    \"Furnished\",\"How many fireplaces?\",\"Terrace\",\"Terrace surface\",\n",
    "    \"Garden\",\"Garden surface\",\"Surface of the plot\",\"Number of frontages\",\n",
    "    \"Swimming pool\",\"Building condition\",\"Primary energy consumption\",\"CO₂ emission\"]]\n",
    "df = df.set_index(\"id\")"
   ]
  },
  {
   "cell_type": "code",
   "execution_count": 55,
   "metadata": {},
   "outputs": [],
   "source": [
    "df = df.drop(df[df[\"Type\"]==\"house group\"].index)\n",
    "df = df.drop(df[df[\"Type\"]==\"apartment group\"].index)"
   ]
  },
  {
   "cell_type": "code",
   "execution_count": 56,
   "metadata": {},
   "outputs": [],
   "source": [
    "def clean_and_convert(column):\n",
    "    column = column.apply(lambda x: re.sub('\\D+', '', str(x)))\n",
    "    column = column.replace('', np.nan)\n",
    "    return column\n",
    "\n",
    "df['Living area'] = clean_and_convert(df['Living area'])\n",
    "df['Terrace surface'] = clean_and_convert(df['Terrace surface'])\n",
    "df['Garden surface'] = clean_and_convert(df['Garden surface'])\n",
    "df['Surface of the plot'] = clean_and_convert(df['Surface of the plot'])\n",
    "df['Primary energy consumption'] = clean_and_convert(df['Primary energy consumption'])\n",
    "df['CO₂ emission'] = clean_and_convert(df['CO₂ emission'])\n",
    "\n",
    "df['location'] = df['location'].apply(urllib.parse.unquote)"
   ]
  },
  {
   "cell_type": "code",
   "execution_count": 57,
   "metadata": {},
   "outputs": [],
   "source": [
    "df[\"Garden\"] = np.where((df[\"Garden\"] == \"Yes\") & (df[\"Garden surface\"] == \"\"), 1, df[\"Garden\"])\n",
    "df[\"Garden\"] = np.where((df[\"Garden\"] != \"Yes\") & (df[\"Garden surface\"] != \"\"), 1, df[\"Garden\"])\n",
    "df[\"Garden\"] = df[\"Garden\"].replace(\"\",np.nan).fillna(0)\n",
    "\n",
    "df[\"Terrace\"] = np.where((df[\"Terrace\"] == \"Yes\") & (df[\"Terrace surface\"] == \"\"), 1, df[\"Terrace\"])\n",
    "df[\"Terrace\"] = np.where((df[\"Terrace\"] != \"Yes\") & (df[\"Terrace surface\"] != \"\"), 1, df[\"Terrace\"])\n",
    "df[\"Terrace\"] = df[\"Terrace\"].replace(\"\",np.nan).fillna(0)"
   ]
  },
  {
   "cell_type": "code",
   "execution_count": 58,
   "metadata": {},
   "outputs": [],
   "source": [
    "def nan_replacement(column):\n",
    "    column = column.replace(\"Yes\",1)\n",
    "    column = column.replace(\"No\",0)\n",
    "    column = column.replace('', np.nan).fillna(0)\n",
    "    return column\n",
    "\n",
    "df['Furnished'] = nan_replacement(df['Furnished'])\n",
    "df['Swimming pool'] = nan_replacement(df['Swimming pool'])\n",
    "df['How many fireplaces?'] = nan_replacement(df['How many fireplaces?'])"
   ]
  },
  {
   "cell_type": "code",
   "execution_count": 59,
   "metadata": {},
   "outputs": [],
   "source": [
    "df[\"Price\"] = df[\"Price\"].astype(int)\n",
    "df = df.astype({\"Price\":\"int\",\n",
    "                \"Bedrooms\":\"float\",\n",
    "                \"Living area\":\"float\",\n",
    "                \"Terrace surface\":\"float\",\n",
    "                \"Garden surface\":\"float\",\"Surface of the plot\":\"float\",\n",
    "                \"Number of frontages\":\"float\",\"Primary energy consumption\":\"float\",\n",
    "                \"CO₂ emission\":\"float\"})"
   ]
  },
  {
   "cell_type": "code",
   "execution_count": 60,
   "metadata": {},
   "outputs": [],
   "source": [
    "# Mapping dictionary for replacing values in the \"kitchen\" column\n",
    "kitchen_mapping = {\n",
    "    np.nan: -1,\n",
    "    'Not installed': 0,\n",
    "    'Installed': 1,\n",
    "    'Semi equipped': 2,\n",
    "    'Hyper equipped': 3,\n",
    "    'USA uninstalled' :0,\n",
    "    'USA installed': 1,\n",
    "    'USA semi equipped': 2,\n",
    "    'USA hyper equipped' :3\n",
    "}\n",
    "# Replace values in the \"Kitchen type\" column with corresponding numbers and create a new column called \"Kitchen values\"\n",
    "df['Kitchen values'] = df['Kitchen type'].map(kitchen_mapping).fillna(df['Kitchen type']).astype(int)"
   ]
  },
  {
   "cell_type": "code",
   "execution_count": 61,
   "metadata": {},
   "outputs": [],
   "source": [
    "building_cond_mapping = {\n",
    "    np.nan: -1,\n",
    "    'To restore': 0,\n",
    "    'To be done up': 0,\n",
    "    'Just renovated': 2,\n",
    "    'To renovate': 1,\n",
    "    'Good': 2,\n",
    "    'As new' :3\n",
    "}\n",
    "\n",
    "df['Building Cond. values'] = df['Building condition'].map(building_cond_mapping).fillna(df['Building condition']).astype(int)"
   ]
  },
  {
   "cell_type": "code",
   "execution_count": 62,
   "metadata": {},
   "outputs": [],
   "source": [
    "df = df.drop(df[df[\"Living area\"].isna()].index)"
   ]
  },
  {
   "cell_type": "code",
   "execution_count": 63,
   "metadata": {},
   "outputs": [
    {
     "data": {
      "text/plain": [
       "location                          0\n",
       "Zip                               0\n",
       "Type                              0\n",
       "Subtype                           0\n",
       "Price                             0\n",
       "Transaction Type                  0\n",
       "Bedrooms                        331\n",
       "Living area                       0\n",
       "Kitchen type                   3933\n",
       "Furnished                         0\n",
       "How many fireplaces?              0\n",
       "Terrace                           0\n",
       "Terrace surface                9555\n",
       "Garden                            0\n",
       "Garden surface                13425\n",
       "Surface of the plot            8985\n",
       "Number of frontages            4202\n",
       "Swimming pool                     0\n",
       "Building condition             2843\n",
       "Primary energy consumption     2557\n",
       "CO₂ emission                  12477\n",
       "Kitchen values                    0\n",
       "Building Cond. values             0\n",
       "dtype: int64"
      ]
     },
     "execution_count": 63,
     "metadata": {},
     "output_type": "execute_result"
    }
   ],
   "source": [
    "df.isna().sum()"
   ]
  },
  {
   "cell_type": "code",
   "execution_count": null,
   "metadata": {},
   "outputs": [],
   "source": [
    "df.to_csv(\"clean_data.csv\")"
   ]
  }
 ],
 "metadata": {
  "kernelspec": {
   "display_name": "venv",
   "language": "python",
   "name": "python3"
  },
  "language_info": {
   "codemirror_mode": {
    "name": "ipython",
    "version": 3
   },
   "file_extension": ".py",
   "mimetype": "text/x-python",
   "name": "python",
   "nbconvert_exporter": "python",
   "pygments_lexer": "ipython3",
   "version": "3.11.2"
  },
  "orig_nbformat": 4
 },
 "nbformat": 4,
 "nbformat_minor": 2
}
