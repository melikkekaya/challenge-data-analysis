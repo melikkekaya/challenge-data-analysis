{
 "cells": [
  {
   "cell_type": "code",
   "execution_count": 207,
   "metadata": {},
   "outputs": [],
   "source": [
    "import pandas as pd\n",
    "import urllib.parse\n",
    "import re\n",
    "import numpy as np\n",
    "import matplotlib.pyplot as plt\n",
    "import seaborn as sns"
   ]
  },
  {
   "cell_type": "code",
   "execution_count": 208,
   "metadata": {},
   "outputs": [],
   "source": [
    "df_main = pd.read_csv(\"properties_data.csv\", low_memory=False)\n",
    "df = df_main[[\"id\",\"location\",\"Zip\",\"Type\",\"Subtype\",\n",
    "    \"Price\",\"Transaction Type\",\"Bedrooms\",\"Living area\",\"Kitchen type\",\n",
    "    \"Furnished\",\"How many fireplaces?\",\"Terrace\",\"Terrace surface\",\n",
    "    \"Garden\",\"Garden surface\",\"Surface of the plot\",\"Number of frontages\",\n",
    "    \"Swimming pool\",\"Building condition\",\"Primary energy consumption\"]]\n",
    "df = df.set_index(\"id\")"
   ]
  },
  {
   "cell_type": "code",
   "execution_count": 209,
   "metadata": {},
   "outputs": [],
   "source": [
    "df = df.drop(df[df[\"Type\"]==\"house group\"].index)\n",
    "df = df.drop(df[df[\"Type\"]==\"apartment group\"].index)"
   ]
  },
  {
   "cell_type": "code",
   "execution_count": 210,
   "metadata": {},
   "outputs": [],
   "source": [
    "df = df.rename(columns={\n",
    "    'location' :'Locality',\n",
    "    'Transaction Type' : 'Type of sale',\n",
    "    'Type' :'Type of property',\n",
    "    'Subtype' : 'Subtype of property',\n",
    "    'Number of frontages': 'Number of facades',\n",
    "    'Bedrooms':'Number of rooms',\n",
    "    'Surface of the plot' :'Surface of the land',\n",
    "    'Kitchen type' : 'Fully equipped kitchen',\n",
    "    'How many fireplaces?' : 'Open fire'\n",
    "})\n",
    " \n",
    "#put the columns in a specific order'\n",
    "df = df.reindex(columns=['Locality',\"Zip\", 'Type of property', 'Subtype of property',\n",
    "                         'Type of sale', 'Price',\n",
    "                         'Building condition','Building Cond. values',\n",
    "                         'Number of facades', 'Number of rooms', \n",
    "                         'Living area',\n",
    "                         'Furnished','Fully equipped kitchen','Kitchen values',\n",
    "                         'Surface of the land',\n",
    "                         'Primary energy consumption','Energy_classes' ,\n",
    "                         'Terrace', 'Terrace surface','Garden','Garden surface',\n",
    "                         'Open fire', 'Swimming pool'])\n"
   ]
  },
  {
   "cell_type": "code",
   "execution_count": 211,
   "metadata": {},
   "outputs": [],
   "source": [
    "def clean_and_convert(column):\n",
    "    column = column.apply(lambda x: re.sub('\\D+', '', str(x)))\n",
    "    column = column.replace('', np.nan)\n",
    "    return column\n",
    "\n",
    "df['Living area'] = clean_and_convert(df['Living area'])\n",
    "df['Terrace surface'] = clean_and_convert(df['Terrace surface'])\n",
    "df['Garden surface'] = clean_and_convert(df['Garden surface'])\n",
    "df['Surface of the land'] = clean_and_convert(df['Surface of the land'])\n",
    "df['Primary energy consumption'] = clean_and_convert(df['Primary energy consumption'])\n",
    "\n",
    "df['Locality'] = df['Locality'].apply(urllib.parse.unquote)"
   ]
  },
  {
   "cell_type": "code",
   "execution_count": 212,
   "metadata": {},
   "outputs": [],
   "source": [
    "conditions = [\n",
    "    (df['Garden']== \"Yes\"),\n",
    "    (df[\"Garden\"].isna()) & (df[\"Garden surface\"].isna()),\n",
    "    (df[\"Garden surface\"].notna())\n",
    "    ]\n",
    "values = [1, 0, 1]\n",
    "df['Garden'] = np.select(conditions, values)\n",
    "\n",
    "df.loc[(df[\"Garden\"] == 0 ) & (df[\"Garden surface\"].isna()), 'Garden surface'] = 0"
   ]
  },
  {
   "cell_type": "code",
   "execution_count": null,
   "metadata": {},
   "outputs": [],
   "source": [
    "conditions = [\n",
    "    (df['Terrace']== \"Yes\"),\n",
    "    (df[\"Terrace\"].isna()) & (df[\"Terrace surface\"].isna()),\n",
    "    (df[\"Terrace surface\"].notna())\n",
    "    ]\n",
    "values = [1, 0, 1]\n",
    "df['Terrace'] = np.select(conditions, values)\n",
    "\n",
    "df.loc[(df[\"Terrace\"] == 0 ) & (df[\"Terrace surface\"].isna()), 'Terrace surface'] = 0"
   ]
  },
  {
   "cell_type": "code",
   "execution_count": null,
   "metadata": {},
   "outputs": [],
   "source": [
    "def nan_replacement(column):\n",
    "    column = column.replace(\"Yes\",1)\n",
    "    column = column.replace(\"No\",0)\n",
    "    column = column.replace('', np.nan).fillna(0)\n",
    "    return column\n",
    "\n",
    "df['Furnished'] = nan_replacement(df['Furnished'])\n",
    "df['Swimming pool'] = nan_replacement(df['Swimming pool'])\n",
    "df['Open fire'] = nan_replacement(df['Open fire'])"
   ]
  },
  {
   "cell_type": "code",
   "execution_count": null,
   "metadata": {},
   "outputs": [],
   "source": [
    "df[\"Price\"] = df[\"Price\"].astype(int)\n",
    "df = df.astype({\"Price\":\"int\",\n",
    "                \"Number of rooms\":\"float\",\n",
    "                \"Living area\":\"float\",\n",
    "                \"Terrace surface\":\"float\",\n",
    "                \"Garden surface\":\"float\",\n",
    "                \"Surface of the land\":\"float\",\n",
    "                \"Number of facades\":\"float\",\n",
    "                \"Primary energy consumption\":\"float\"})"
   ]
  },
  {
   "cell_type": "code",
   "execution_count": null,
   "metadata": {},
   "outputs": [],
   "source": [
    "# Mapping dictionary for replacing values in the \"kitchen\" column\n",
    "kitchen_mapping = {\n",
    "    np.nan: -1,\n",
    "    'Not installed': 0,\n",
    "    'Installed': 1,\n",
    "    'Semi equipped': 2,\n",
    "    'Hyper equipped': 3,\n",
    "    'USA uninstalled' :0,\n",
    "    'USA installed': 1,\n",
    "    'USA semi equipped': 2,\n",
    "    'USA hyper equipped' :3\n",
    "}\n",
    "# Replace values in the \"Kitchen type\" column with corresponding numbers and create a new column called \"Kitchen values\"\n",
    "df['Kitchen values'] = df['Fully equipped kitchen'].map(kitchen_mapping).fillna(df['Fully equipped kitchen']).astype(int)"
   ]
  },
  {
   "cell_type": "code",
   "execution_count": null,
   "metadata": {},
   "outputs": [],
   "source": [
    "building_cond_mapping = {\n",
    "    np.nan: -1,\n",
    "    'To restore': 0,\n",
    "    'To be done up': 2,\n",
    "    'Just renovated': 3,\n",
    "    'To renovate': 1,\n",
    "    'Good': 3,\n",
    "    'As new' :4\n",
    "}\n",
    "\n",
    "df['Building Cond. values'] = df['Building condition'].map(building_cond_mapping).fillna(df['Building condition']).astype(int)"
   ]
  },
  {
   "cell_type": "code",
   "execution_count": null,
   "metadata": {},
   "outputs": [],
   "source": [
    "df = df.drop(df[df[\"Living area\"].isna()].index)"
   ]
  },
  {
   "cell_type": "code",
   "execution_count": null,
   "metadata": {},
   "outputs": [],
   "source": [
    "#Missing values fillied with 1\n",
    "df[\"Primary energy consumption\"] = np.where((df[\"Primary energy consumption\"] != int) & (df[\"Primary energy consumption\"] == \"\"), 0, df[\"Primary energy consumption\"])\n",
    "df[\"Primary energy consumption\"] = df[\"Primary energy consumption\"].replace(\"\",np.nan).fillna(-1).astype(int)\n",
    "\n",
    "#New column with energy classes \n",
    "conditions = [\n",
    "    (df['Primary energy consumption']==-1),\n",
    "    (df['Primary energy consumption']>=1)&(df['Primary energy consumption']<100),\n",
    "    (df['Primary energy consumption']>=100)&(df['Primary energy consumption']<200),\n",
    "    (df['Primary energy consumption']>=200)&(df['Primary energy consumption']<300),\n",
    "    (df['Primary energy consumption']>=300)&(df['Primary energy consumption']<400),\n",
    "    (df['Primary energy consumption']>=400)&(df['Primary energy consumption']<500),\n",
    "    (df['Primary energy consumption']>=500)&(df['Primary energy consumption']<600),\n",
    "    (df['Primary energy consumption']>=600)\n",
    "]\n",
    "\n",
    "values = [-1,7, 6, 5, 4, 3, 2, 1]\n",
    "\n",
    "df['Energy_classes'] = np.select(conditions, values)"
   ]
  },
  {
   "cell_type": "code",
   "execution_count": null,
   "metadata": {},
   "outputs": [],
   "source": [
    "df.to_csv(\"clean_data.csv\")"
   ]
  }
 ],
 "metadata": {
  "kernelspec": {
   "display_name": "venv",
   "language": "python",
   "name": "python3"
  },
  "language_info": {
   "codemirror_mode": {
    "name": "ipython",
    "version": 3
   },
   "file_extension": ".py",
   "mimetype": "text/x-python",
   "name": "python",
   "nbconvert_exporter": "python",
   "pygments_lexer": "ipython3",
   "version": "3.11.2"
  },
  "orig_nbformat": 4
 },
 "nbformat": 4,
 "nbformat_minor": 2
}
