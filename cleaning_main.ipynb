{
 "cells": [
  {
   "cell_type": "code",
   "execution_count": 1,
   "metadata": {},
   "outputs": [],
   "source": [
    "import pandas as pd\n",
    "import numpy as np\n",
    "import re, urllib.parse, matplotlib"
   ]
  },
  {
   "cell_type": "code",
   "execution_count": 2,
   "metadata": {},
   "outputs": [],
   "source": [
    "df_main = pd.read_csv(\"properties_data.csv\", low_memory=False)\n",
    "df = df_main[[\"id\",\"location\",\"Zip\",\"Type\",\"Subtype\",\n",
    "    \"Price\",\"Transaction Type\",\"Bedrooms\",\"Living area\",\"Kitchen type\",\n",
    "    \"Furnished\",\"How many fireplaces?\",\"Terrace\",\"Terrace surface\",\n",
    "    \"Garden\",\"Garden surface\",\"Surface of the plot\",\"Number of frontages\",\n",
    "    \"Swimming pool\",\"Building condition\",\"Primary energy consumption\",\"CO₂ emission\"]]\n",
    "df = df.set_index(\"id\")"
   ]
  },
  {
   "cell_type": "code",
   "execution_count": 3,
   "metadata": {},
   "outputs": [],
   "source": [
    "df = df.drop(df[df[\"Type\"]==\"house group\"].index)\n",
    "df = df.drop(df[df[\"Type\"]==\"apartment group\"].index)"
   ]
  },
  {
   "cell_type": "code",
   "execution_count": 4,
   "metadata": {},
   "outputs": [],
   "source": [
    "def clean_and_convert(column):\n",
    "    column = column.apply(lambda x: re.sub('\\D+', '', str(x)))\n",
    "    column = column.replace('', np.nan)\n",
    "    return column\n",
    "\n",
    "df['Living area'] = clean_and_convert(df['Living area'])\n",
    "df['Terrace surface'] = clean_and_convert(df['Terrace surface'])\n",
    "df['Garden surface'] = clean_and_convert(df['Garden surface'])\n",
    "df['Surface of the plot'] = clean_and_convert(df['Surface of the plot'])\n",
    "df['Primary energy consumption'] = clean_and_convert(df['Primary energy consumption'])\n",
    "df['CO₂ emission'] = clean_and_convert(df['CO₂ emission'])\n",
    "\n",
    "df['location'] = df['location'].apply(urllib.parse.unquote)"
   ]
  },
  {
   "cell_type": "code",
   "execution_count": 5,
   "metadata": {},
   "outputs": [],
   "source": [
    "conditions = [\n",
    "    (df['Garden']== \"Yes\"),\n",
    "    (df[\"Garden\"].isna()) & (df[\"Garden surface\"].isna()),\n",
    "    (df[\"Garden surface\"].notna())\n",
    "    ]\n",
    "values = [1, 0, 1]\n",
    "df['Garden'] = np.select(conditions, values)\n",
    "\n",
    "df.loc[(df[\"Garden\"] == 0 ) & (df[\"Garden surface\"].isna()), 'Garden surface'] = 0"
   ]
  },
  {
   "cell_type": "code",
   "execution_count": null,
   "metadata": {},
   "outputs": [],
   "source": [
    "conditions = [\n",
    "    (df['Terrace']== \"Yes\"),\n",
    "    (df[\"Terrace\"].isna()) & (df[\"Terrace surface\"].isna()),\n",
    "    (df[\"Terrace surface\"].notna())\n",
    "    ]\n",
    "values = [1, 0, 1]\n",
    "df['Terrace'] = np.select(conditions, values)\n",
    "\n",
    "df.loc[(df[\"Terrace\"] == 0 ) & (df[\"Terrace surface\"].isna()), 'Terrace surface'] = 0"
   ]
  },
  {
   "cell_type": "code",
   "execution_count": 7,
   "metadata": {},
   "outputs": [],
   "source": [
    "def nan_replacement(column):\n",
    "    column = column.replace(\"Yes\",1)\n",
    "    column = column.replace(\"No\",0)\n",
    "    column = column.replace('', np.nan).fillna(0)\n",
    "    return column\n",
    "\n",
    "df['Furnished'] = nan_replacement(df['Furnished'])\n",
    "df['Swimming pool'] = nan_replacement(df['Swimming pool'])\n",
    "df['How many fireplaces?'] = nan_replacement(df['How many fireplaces?'])"
   ]
  },
  {
   "cell_type": "code",
   "execution_count": 8,
   "metadata": {},
   "outputs": [],
   "source": [
    "df[\"Price\"] = df[\"Price\"].astype(int)\n",
    "df = df.astype({\"Price\":\"int\",\n",
    "                \"Bedrooms\":\"float\",\n",
    "                \"Living area\":\"float\",\n",
    "                \"Terrace surface\":\"float\",\n",
    "                \"Garden surface\":\"float\",\"Surface of the plot\":\"float\",\n",
    "                \"Number of frontages\":\"float\",\"Primary energy consumption\":\"float\",\n",
    "                \"CO₂ emission\":\"float\"})"
   ]
  },
  {
   "cell_type": "code",
   "execution_count": 9,
   "metadata": {},
   "outputs": [],
   "source": [
    "# Mapping dictionary for replacing values in the \"kitchen\" column\n",
    "kitchen_mapping = {\n",
    "    np.nan: -1,\n",
    "    'Not installed': 0,\n",
    "    'Installed': 1,\n",
    "    'Semi equipped': 2,\n",
    "    'Hyper equipped': 3,\n",
    "    'USA uninstalled' :0,\n",
    "    'USA installed': 1,\n",
    "    'USA semi equipped': 2,\n",
    "    'USA hyper equipped' :3\n",
    "}\n",
    "# Replace values in the \"Kitchen type\" column with corresponding numbers and create a new column called \"Kitchen values\"\n",
    "df['Kitchen values'] = df['Kitchen type'].map(kitchen_mapping).fillna(df['Kitchen type']).astype(int)"
   ]
  },
  {
   "cell_type": "code",
   "execution_count": 10,
   "metadata": {},
   "outputs": [],
   "source": [
    "building_cond_mapping = {\n",
    "    np.nan: -1,\n",
    "    'To restore': 0,\n",
    "    'To be done up': 2,\n",
    "    'Just renovated': 3,\n",
    "    'To renovate': 1,\n",
    "    'Good': 3,\n",
    "    'As new' :4\n",
    "}\n",
    "\n",
    "df['Building Cond. values'] = df['Building condition'].map(building_cond_mapping).fillna(df['Building condition']).astype(int)"
   ]
  },
  {
   "cell_type": "code",
   "execution_count": 11,
   "metadata": {},
   "outputs": [],
   "source": [
    "df = df.drop(df[df[\"Living area\"].isna()].index)"
   ]
  },
  {
   "cell_type": "code",
   "execution_count": 12,
   "metadata": {},
   "outputs": [],
   "source": [
    "#Missing values fillied with 1\n",
    "df[\"Primary energy consumption\"] = np.where((df[\"Primary energy consumption\"] != int) & (df[\"Primary energy consumption\"] == \"\"), 0, df[\"Primary energy consumption\"])\n",
    "df[\"Primary energy consumption\"] = df[\"Primary energy consumption\"].replace(\"\",np.nan).fillna(-1).astype(int)\n",
    "\n",
    "#New column with energy classes \n",
    "conditions = [\n",
    "    (df['Primary energy consumption']==-1),\n",
    "    (df['Primary energy consumption']>=1)&(df['Primary energy consumption']<100),\n",
    "    (df['Primary energy consumption']>=100)&(df['Primary energy consumption']<200),\n",
    "    (df['Primary energy consumption']>=200)&(df['Primary energy consumption']<300),\n",
    "    (df['Primary energy consumption']>=300)&(df['Primary energy consumption']<400),\n",
    "    (df['Primary energy consumption']>=400)&(df['Primary energy consumption']<500),\n",
    "    (df['Primary energy consumption']>=500)&(df['Primary energy consumption']<600),\n",
    "    (df['Primary energy consumption']>=600)\n",
    "]\n",
    "\n",
    "values = [-1,'A', 'B', 'C', 'D', 'E', 'F', 'G']\n",
    "\n",
    "df['Energy_classes'] = np.select(conditions, values)"
   ]
  },
  {
   "cell_type": "code",
   "execution_count": 13,
   "metadata": {},
   "outputs": [],
   "source": [
    "df.to_csv(\"clean_data.csv\")"
   ]
  }
 ],
 "metadata": {
  "kernelspec": {
   "display_name": "venv",
   "language": "python",
   "name": "python3"
  },
  "language_info": {
   "codemirror_mode": {
    "name": "ipython",
    "version": 3
   },
   "file_extension": ".py",
   "mimetype": "text/x-python",
   "name": "python",
   "nbconvert_exporter": "python",
   "pygments_lexer": "ipython3",
   "version": "3.11.2"
  },
  "orig_nbformat": 4
 },
 "nbformat": 4,
 "nbformat_minor": 2
}
